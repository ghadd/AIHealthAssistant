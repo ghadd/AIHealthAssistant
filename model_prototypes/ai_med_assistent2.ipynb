{
 "cells": [
  {
   "cell_type": "code",
   "execution_count": 2,
   "id": "fancy-walnut",
   "metadata": {
    "id": "fancy-walnut"
   },
   "outputs": [],
   "source": [
    "import pandas as pd\n",
    "import re\n",
    "import string"
   ]
  },
  {
   "cell_type": "code",
   "execution_count": 4,
   "id": "XVMl6E3dBdVv",
   "metadata": {
    "id": "XVMl6E3dBdVv"
   },
   "outputs": [],
   "source": [
    "# from pathlib import Path\n",
    "# GDRIVE_PATH = '/content/gdrive/My Drive/code/doc_ua/'\n",
    "\n",
    "# if not Path(GDRIVE_PATH).exists():\n",
    "#     from google.colab import drive\n",
    "#     drive.mount('/content/gdrive')"
   ]
  },
  {
   "cell_type": "code",
   "execution_count": 5,
   "id": "sharp-sharing",
   "metadata": {
    "colab": {
     "base_uri": "https://localhost:8080/",
     "height": 375
    },
    "executionInfo": {
     "elapsed": 648,
     "status": "error",
     "timestamp": 1616301828614,
     "user": {
      "displayName": "Майя Бочарова",
      "photoUrl": "https://lh3.googleusercontent.com/a-/AOh14GgeyBvid_IXBafx10jxD4tKvmLki9-6ixdIlYvcPQ=s64",
      "userId": "10293702643825462324"
     },
     "user_tz": -120
    },
    "id": "sharp-sharing",
    "outputId": "0754b129-c13c-4cae-efdb-e06cef99716d"
   },
   "outputs": [],
   "source": [
    "body = pd.read_csv('./body.csv')"
   ]
  },
  {
   "cell_type": "code",
   "execution_count": 6,
   "id": "collaborative-questionnaire",
   "metadata": {
    "colab": {
     "base_uri": "https://localhost:8080/",
     "height": 204
    },
    "executionInfo": {
     "elapsed": 609,
     "status": "ok",
     "timestamp": 1616300658123,
     "user": {
      "displayName": "Alona Sychevska",
      "photoUrl": "https://lh3.googleusercontent.com/a-/AOh14GgZ0malPWqMlhvFcClcWBFiVxOfUoQ8L_bgF_hbkg=s64",
      "userId": "11058447506513815192"
     },
     "user_tz": 0
    },
    "id": "collaborative-questionnaire",
    "outputId": "b7f9b2ae-ecaf-4d0f-dc8e-90f44e00a89e"
   },
   "outputs": [
    {
     "data": {
      "text/html": [
       "<div>\n",
       "<style scoped>\n",
       "    .dataframe tbody tr th:only-of-type {\n",
       "        vertical-align: middle;\n",
       "    }\n",
       "\n",
       "    .dataframe tbody tr th {\n",
       "        vertical-align: top;\n",
       "    }\n",
       "\n",
       "    .dataframe thead th {\n",
       "        text-align: right;\n",
       "    }\n",
       "</style>\n",
       "<table border=\"1\" class=\"dataframe\">\n",
       "  <thead>\n",
       "    <tr style=\"text-align: right;\">\n",
       "      <th></th>\n",
       "      <th>id</th>\n",
       "      <th>parent</th>\n",
       "      <th>zone_id</th>\n",
       "      <th>name</th>\n",
       "      <th>active</th>\n",
       "      <th>deleted</th>\n",
       "    </tr>\n",
       "  </thead>\n",
       "  <tbody>\n",
       "    <tr>\n",
       "      <th>0</th>\n",
       "      <td>1</td>\n",
       "      <td>NaN</td>\n",
       "      <td>1,1__1</td>\n",
       "      <td>Голова</td>\n",
       "      <td>1</td>\n",
       "      <td>0</td>\n",
       "    </tr>\n",
       "    <tr>\n",
       "      <th>1</th>\n",
       "      <td>2</td>\n",
       "      <td>1.0</td>\n",
       "      <td>1_5_1,1_5</td>\n",
       "      <td>Нос</td>\n",
       "      <td>1</td>\n",
       "      <td>0</td>\n",
       "    </tr>\n",
       "    <tr>\n",
       "      <th>2</th>\n",
       "      <td>3</td>\n",
       "      <td>NaN</td>\n",
       "      <td>4,1_11</td>\n",
       "      <td>Живот</td>\n",
       "      <td>1</td>\n",
       "      <td>0</td>\n",
       "    </tr>\n",
       "    <tr>\n",
       "      <th>3</th>\n",
       "      <td>4</td>\n",
       "      <td>3.0</td>\n",
       "      <td>NaN</td>\n",
       "      <td>печень</td>\n",
       "      <td>1</td>\n",
       "      <td>1</td>\n",
       "    </tr>\n",
       "    <tr>\n",
       "      <th>4</th>\n",
       "      <td>5</td>\n",
       "      <td>NaN</td>\n",
       "      <td>NaN</td>\n",
       "      <td>Общие симптомы</td>\n",
       "      <td>1</td>\n",
       "      <td>0</td>\n",
       "    </tr>\n",
       "  </tbody>\n",
       "</table>\n",
       "</div>"
      ],
      "text/plain": [
       "   id  parent    zone_id            name  active  deleted\n",
       "0   1     NaN     1,1__1          Голова       1        0\n",
       "1   2     1.0  1_5_1,1_5             Нос       1        0\n",
       "2   3     NaN     4,1_11           Живот       1        0\n",
       "3   4     3.0        NaN          печень       1        1\n",
       "4   5     NaN        NaN  Общие симптомы       1        0"
      ]
     },
     "execution_count": 6,
     "metadata": {},
     "output_type": "execute_result"
    }
   ],
   "source": [
    "body.head()"
   ]
  },
  {
   "cell_type": "code",
   "execution_count": 7,
   "id": "caring-train",
   "metadata": {
    "colab": {
     "base_uri": "https://localhost:8080/"
    },
    "executionInfo": {
     "elapsed": 628,
     "status": "ok",
     "timestamp": 1616300665494,
     "user": {
      "displayName": "Alona Sychevska",
      "photoUrl": "https://lh3.googleusercontent.com/a-/AOh14GgZ0malPWqMlhvFcClcWBFiVxOfUoQ8L_bgF_hbkg=s64",
      "userId": "11058447506513815192"
     },
     "user_tz": 0
    },
    "id": "caring-train",
    "outputId": "3d480041-11a1-4eae-a2b2-adfa6c2a4629"
   },
   "outputs": [
    {
     "name": "stdout",
     "output_type": "stream",
     "text": [
      "<class 'pandas.core.frame.DataFrame'>\n",
      "RangeIndex: 54 entries, 0 to 53\n",
      "Data columns (total 6 columns):\n",
      " #   Column   Non-Null Count  Dtype  \n",
      "---  ------   --------------  -----  \n",
      " 0   id       54 non-null     int64  \n",
      " 1   parent   44 non-null     float64\n",
      " 2   zone_id  50 non-null     object \n",
      " 3   name     54 non-null     object \n",
      " 4   active   54 non-null     int64  \n",
      " 5   deleted  54 non-null     int64  \n",
      "dtypes: float64(1), int64(3), object(2)\n",
      "memory usage: 2.7+ KB\n"
     ]
    }
   ],
   "source": [
    "body.info()"
   ]
  },
  {
   "cell_type": "code",
   "execution_count": 9,
   "id": "introductory-algebra",
   "metadata": {
    "id": "introductory-algebra"
   },
   "outputs": [],
   "source": [
    "body_symptom = pd.read_csv('./body_symptom.csv')"
   ]
  },
  {
   "cell_type": "code",
   "execution_count": 10,
   "id": "desirable-origin",
   "metadata": {
    "colab": {
     "base_uri": "https://localhost:8080/",
     "height": 204
    },
    "executionInfo": {
     "elapsed": 426,
     "status": "ok",
     "timestamp": 1616300695468,
     "user": {
      "displayName": "Alona Sychevska",
      "photoUrl": "https://lh3.googleusercontent.com/a-/AOh14GgZ0malPWqMlhvFcClcWBFiVxOfUoQ8L_bgF_hbkg=s64",
      "userId": "11058447506513815192"
     },
     "user_tz": 0
    },
    "id": "desirable-origin",
    "outputId": "8842d176-0e9a-45e5-897e-6b5843f4bc00"
   },
   "outputs": [
    {
     "data": {
      "text/html": [
       "<div>\n",
       "<style scoped>\n",
       "    .dataframe tbody tr th:only-of-type {\n",
       "        vertical-align: middle;\n",
       "    }\n",
       "\n",
       "    .dataframe tbody tr th {\n",
       "        vertical-align: top;\n",
       "    }\n",
       "\n",
       "    .dataframe thead th {\n",
       "        text-align: right;\n",
       "    }\n",
       "</style>\n",
       "<table border=\"1\" class=\"dataframe\">\n",
       "  <thead>\n",
       "    <tr style=\"text-align: right;\">\n",
       "      <th></th>\n",
       "      <th>id</th>\n",
       "      <th>body_id</th>\n",
       "      <th>symptom_id</th>\n",
       "    </tr>\n",
       "  </thead>\n",
       "  <tbody>\n",
       "    <tr>\n",
       "      <th>0</th>\n",
       "      <td>1</td>\n",
       "      <td>16</td>\n",
       "      <td>14</td>\n",
       "    </tr>\n",
       "    <tr>\n",
       "      <th>1</th>\n",
       "      <td>2</td>\n",
       "      <td>16</td>\n",
       "      <td>220</td>\n",
       "    </tr>\n",
       "    <tr>\n",
       "      <th>2</th>\n",
       "      <td>3</td>\n",
       "      <td>48</td>\n",
       "      <td>3</td>\n",
       "    </tr>\n",
       "    <tr>\n",
       "      <th>3</th>\n",
       "      <td>6</td>\n",
       "      <td>30</td>\n",
       "      <td>3</td>\n",
       "    </tr>\n",
       "    <tr>\n",
       "      <th>4</th>\n",
       "      <td>7</td>\n",
       "      <td>30</td>\n",
       "      <td>4</td>\n",
       "    </tr>\n",
       "  </tbody>\n",
       "</table>\n",
       "</div>"
      ],
      "text/plain": [
       "   id  body_id  symptom_id\n",
       "0   1       16          14\n",
       "1   2       16         220\n",
       "2   3       48           3\n",
       "3   6       30           3\n",
       "4   7       30           4"
      ]
     },
     "execution_count": 10,
     "metadata": {},
     "output_type": "execute_result"
    }
   ],
   "source": [
    "body_symptom.head()"
   ]
  },
  {
   "cell_type": "code",
   "execution_count": 11,
   "id": "collaborative-america",
   "metadata": {
    "colab": {
     "base_uri": "https://localhost:8080/"
    },
    "executionInfo": {
     "elapsed": 1959,
     "status": "ok",
     "timestamp": 1616300698030,
     "user": {
      "displayName": "Alona Sychevska",
      "photoUrl": "https://lh3.googleusercontent.com/a-/AOh14GgZ0malPWqMlhvFcClcWBFiVxOfUoQ8L_bgF_hbkg=s64",
      "userId": "11058447506513815192"
     },
     "user_tz": 0
    },
    "id": "collaborative-america",
    "outputId": "705cf137-9494-401b-f1b0-55ae564f388a"
   },
   "outputs": [
    {
     "name": "stdout",
     "output_type": "stream",
     "text": [
      "<class 'pandas.core.frame.DataFrame'>\n",
      "RangeIndex: 1497 entries, 0 to 1496\n",
      "Data columns (total 3 columns):\n",
      " #   Column      Non-Null Count  Dtype\n",
      "---  ------      --------------  -----\n",
      " 0   id          1497 non-null   int64\n",
      " 1   body_id     1497 non-null   int64\n",
      " 2   symptom_id  1497 non-null   int64\n",
      "dtypes: int64(3)\n",
      "memory usage: 35.2 KB\n"
     ]
    }
   ],
   "source": [
    "body_symptom.info()"
   ]
  },
  {
   "cell_type": "code",
   "execution_count": 12,
   "id": "south-bronze",
   "metadata": {
    "id": "south-bronze"
   },
   "outputs": [],
   "source": [
    "import csv\n",
    "def _read_csv(fp):\n",
    "    with open(fp, newline='', encoding='utf-8') as f:\n",
    "        df = []\n",
    " \n",
    "        reader = csv.reader(f, doublequote=False, escapechar='\\\\',\n",
    "                            delimiter=',', quotechar='\"', quoting=csv.QUOTE_MINIMAL)\n",
    "        for row in reader:\n",
    "            df.append(row)\n",
    " \n",
    "        return pd.DataFrame(df)"
   ]
  },
  {
   "cell_type": "code",
   "execution_count": 14,
   "id": "recent-berlin",
   "metadata": {
    "id": "recent-berlin"
   },
   "outputs": [],
   "source": [
    "disease = _read_csv('./disease.csv')\n",
    "disease = disease.rename(columns=disease.iloc[0]).drop(disease.index[0])"
   ]
  },
  {
   "cell_type": "code",
   "execution_count": 15,
   "id": "another-leather",
   "metadata": {
    "colab": {
     "base_uri": "https://localhost:8080/",
     "height": 289
    },
    "executionInfo": {
     "elapsed": 722,
     "status": "ok",
     "timestamp": 1616300720828,
     "user": {
      "displayName": "Alona Sychevska",
      "photoUrl": "https://lh3.googleusercontent.com/a-/AOh14GgZ0malPWqMlhvFcClcWBFiVxOfUoQ8L_bgF_hbkg=s64",
      "userId": "11058447506513815192"
     },
     "user_tz": 0
    },
    "id": "another-leather",
    "outputId": "2e696a76-eb78-4513-94ed-2fa3acb70abb"
   },
   "outputs": [
    {
     "data": {
      "text/html": [
       "<div>\n",
       "<style scoped>\n",
       "    .dataframe tbody tr th:only-of-type {\n",
       "        vertical-align: middle;\n",
       "    }\n",
       "\n",
       "    .dataframe tbody tr th {\n",
       "        vertical-align: top;\n",
       "    }\n",
       "\n",
       "    .dataframe thead th {\n",
       "        text-align: right;\n",
       "    }\n",
       "</style>\n",
       "<table border=\"1\" class=\"dataframe\">\n",
       "  <thead>\n",
       "    <tr style=\"text-align: right;\">\n",
       "      <th></th>\n",
       "      <th>id</th>\n",
       "      <th>group_id</th>\n",
       "      <th>name</th>\n",
       "      <th>alias</th>\n",
       "      <th>gender</th>\n",
       "      <th>deleted</th>\n",
       "      <th>description</th>\n",
       "      <th>about</th>\n",
       "      <th>popularity</th>\n",
       "      <th>active</th>\n",
       "    </tr>\n",
       "  </thead>\n",
       "  <tbody>\n",
       "    <tr>\n",
       "      <th>1</th>\n",
       "      <td>4</td>\n",
       "      <td>5</td>\n",
       "      <td>Анафилактический шок</td>\n",
       "      <td>anafilakticheskij-shok</td>\n",
       "      <td>all</td>\n",
       "      <td>1</td>\n",
       "      <td>&lt;p&gt;&lt;strong&gt;Анафилактический шок (Анафилаксия)&lt;...</td>\n",
       "      <td>&lt;h2&gt;Симптомы&lt;/h2&gt;\\r\\n&lt;p&gt;Симптомы анафилактичес...</td>\n",
       "      <td>0</td>\n",
       "      <td>1</td>\n",
       "    </tr>\n",
       "    <tr>\n",
       "      <th>2</th>\n",
       "      <td>5</td>\n",
       "      <td>5</td>\n",
       "      <td>Бронхиальная астма</td>\n",
       "      <td>bronhialnaya-astma</td>\n",
       "      <td>all</td>\n",
       "      <td>0</td>\n",
       "      <td>&lt;p&gt;&lt;strong&gt;Бронхиальная астма (БА) &lt;/strong&gt;&amp;n...</td>\n",
       "      <td>&lt;p&gt;Бронхиальная астма была признана наиболее ч...</td>\n",
       "      <td>0</td>\n",
       "      <td>1</td>\n",
       "    </tr>\n",
       "    <tr>\n",
       "      <th>3</th>\n",
       "      <td>6</td>\n",
       "      <td>5</td>\n",
       "      <td>Крапивница</td>\n",
       "      <td>krapivnica</td>\n",
       "      <td>all</td>\n",
       "      <td>0</td>\n",
       "      <td>&lt;p&gt;&lt;strong&gt;Крапивница&lt;/strong&gt; &amp;mdash; болезнь...</td>\n",
       "      <td>&lt;p&gt;Крапивница занимает 2 место после бронхиаль...</td>\n",
       "      <td>0</td>\n",
       "      <td>1</td>\n",
       "    </tr>\n",
       "    <tr>\n",
       "      <th>4</th>\n",
       "      <td>7</td>\n",
       "      <td>5</td>\n",
       "      <td>Отек Квинке</td>\n",
       "      <td>otek-kvinke</td>\n",
       "      <td>all</td>\n",
       "      <td>0</td>\n",
       "      <td>&lt;p&gt;&lt;strong&gt;Ангионевротический отек (отек Квинк...</td>\n",
       "      <td>&lt;h2&gt;Причины&lt;/h2&gt;\\r\\n&lt;p&gt;В 80% случаев причиной ...</td>\n",
       "      <td>0</td>\n",
       "      <td>1</td>\n",
       "    </tr>\n",
       "    <tr>\n",
       "      <th>5</th>\n",
       "      <td>8</td>\n",
       "      <td>5</td>\n",
       "      <td>Поллиноз (Сенная лихорадка)</td>\n",
       "      <td>pollinoz</td>\n",
       "      <td>all</td>\n",
       "      <td>0</td>\n",
       "      <td>&lt;p&gt;&lt;strong&gt;Поллиноз&lt;/strong&gt; (сезонный насморк...</td>\n",
       "      <td>&lt;p&gt;Аллергия у взрослых и детей &amp;ndash; гиперчу...</td>\n",
       "      <td>0</td>\n",
       "      <td>1</td>\n",
       "    </tr>\n",
       "  </tbody>\n",
       "</table>\n",
       "</div>"
      ],
      "text/plain": [
       "  id group_id                         name                   alias gender  \\\n",
       "1  4        5         Анафилактический шок  anafilakticheskij-shok    all   \n",
       "2  5        5           Бронхиальная астма      bronhialnaya-astma    all   \n",
       "3  6        5                   Крапивница              krapivnica    all   \n",
       "4  7        5                  Отек Квинке             otek-kvinke    all   \n",
       "5  8        5  Поллиноз (Сенная лихорадка)                pollinoz    all   \n",
       "\n",
       "  deleted                                        description  \\\n",
       "1       1  <p><strong>Анафилактический шок (Анафилаксия)<...   \n",
       "2       0  <p><strong>Бронхиальная астма (БА) </strong>&n...   \n",
       "3       0  <p><strong>Крапивница</strong> &mdash; болезнь...   \n",
       "4       0  <p><strong>Ангионевротический отек (отек Квинк...   \n",
       "5       0  <p><strong>Поллиноз</strong> (сезонный насморк...   \n",
       "\n",
       "                                               about popularity active  \n",
       "1  <h2>Симптомы</h2>\\r\\n<p>Симптомы анафилактичес...          0      1  \n",
       "2  <p>Бронхиальная астма была признана наиболее ч...          0      1  \n",
       "3  <p>Крапивница занимает 2 место после бронхиаль...          0      1  \n",
       "4  <h2>Причины</h2>\\r\\n<p>В 80% случаев причиной ...          0      1  \n",
       "5  <p>Аллергия у взрослых и детей &ndash; гиперчу...          0      1  "
      ]
     },
     "execution_count": 15,
     "metadata": {},
     "output_type": "execute_result"
    }
   ],
   "source": [
    "disease.head()"
   ]
  },
  {
   "cell_type": "code",
   "execution_count": 16,
   "id": "worst-giant",
   "metadata": {
    "colab": {
     "base_uri": "https://localhost:8080/",
     "height": 107
    },
    "executionInfo": {
     "elapsed": 792,
     "status": "ok",
     "timestamp": 1616300726295,
     "user": {
      "displayName": "Alona Sychevska",
      "photoUrl": "https://lh3.googleusercontent.com/a-/AOh14GgZ0malPWqMlhvFcClcWBFiVxOfUoQ8L_bgF_hbkg=s64",
      "userId": "11058447506513815192"
     },
     "user_tz": 0
    },
    "id": "worst-giant",
    "outputId": "e187a54e-1acf-4da8-e5ff-e88843af2ba0"
   },
   "outputs": [
    {
     "data": {
      "text/plain": [
       "'<p><strong>Анафилактический шок (Анафилаксия)</strong> относится к опасным ситуациям, встречающимся в человеческой жизни, которые угрожают непосредственно жизнедеятельности человека. Анафилактический шок выражается повышенной чувствительностью к аллергену или аллергической реакцией.</p>\\r\\n<p>Зачастую анафилаксия развивается вследствие повторного контакта с аллергеном. Например, если наблюдается чувствительность к яду или слюне пчел, то первый укус может пройти без последствий, а дальнейший способен развивать анафилактическую реакцию, которая может проявиться как через полчаса, так и через 12 часов.</p>'"
      ]
     },
     "execution_count": 16,
     "metadata": {},
     "output_type": "execute_result"
    }
   ],
   "source": [
    "disease['description'][1]"
   ]
  },
  {
   "cell_type": "markdown",
   "id": "stable-directory",
   "metadata": {
    "id": "stable-directory"
   },
   "source": [
    "# Cleaning html text\n",
    "Мне кажется, этот вариант лучше"
   ]
  },
  {
   "cell_type": "code",
   "execution_count": 17,
   "id": "diverse-exclusive",
   "metadata": {
    "id": "diverse-exclusive"
   },
   "outputs": [],
   "source": [
    "from bs4 import BeautifulSoup\n",
    "import re"
   ]
  },
  {
   "cell_type": "code",
   "execution_count": 18,
   "id": "engaged-illness",
   "metadata": {
    "id": "engaged-illness"
   },
   "outputs": [],
   "source": [
    "def clean_html(html):\n",
    "    #убираем точки, они мешают работать BeautifulSoup\n",
    "    text = re.sub(r'\\.', ' ', html)\n",
    "    soup = BeautifulSoup(html)\n",
    "    text = soup.get_text()  \n",
    "    #убираем \\n|\\r|\\xa0\n",
    "    text = re.sub(r'\\n|\\r|\\xa0|mdash|nbsp|ndash|igeo|b', ' ', text)\n",
    "    text = re.sub(r'[^\\w ]', '', text)\n",
    "#     text = re.sub(r'\\\\', ' ', text)\n",
    "#     text = re.sub(r'\"', ' ', text)\n",
    "    #убираем лишние пробелы\n",
    "    text = re.sub(r' +', ' ', text) \n",
    "    return text.strip()"
   ]
  },
  {
   "cell_type": "code",
   "execution_count": 19,
   "id": "central-diana",
   "metadata": {
    "colab": {
     "base_uri": "https://localhost:8080/",
     "height": 35
    },
    "executionInfo": {
     "elapsed": 883,
     "status": "ok",
     "timestamp": 1616300735953,
     "user": {
      "displayName": "Alona Sychevska",
      "photoUrl": "https://lh3.googleusercontent.com/a-/AOh14GgZ0malPWqMlhvFcClcWBFiVxOfUoQ8L_bgF_hbkg=s64",
      "userId": "11058447506513815192"
     },
     "user_tz": 0
    },
    "id": "central-diana",
    "outputId": "ce23d835-313f-4a3b-ed7c-2c0ee3758189"
   },
   "outputs": [
    {
     "data": {
      "text/plain": [
       "'бульканье в грудной клетке'"
      ]
     },
     "execution_count": 19,
     "metadata": {},
     "output_type": "execute_result"
    }
   ],
   "source": [
    "ex2 = '\\\\бульканье\\\\\" в грудной клетке\"'\n",
    "clean_html(ex2)"
   ]
  },
  {
   "cell_type": "code",
   "execution_count": 20,
   "id": "together-replication",
   "metadata": {
    "id": "together-replication"
   },
   "outputs": [],
   "source": [
    "disease['description'] = disease['description'].apply(clean_html)\n",
    "disease['about'] = disease['about'].apply(clean_html)"
   ]
  },
  {
   "cell_type": "code",
   "execution_count": 21,
   "id": "seasonal-jordan",
   "metadata": {
    "colab": {
     "base_uri": "https://localhost:8080/",
     "height": 289
    },
    "executionInfo": {
     "elapsed": 2636,
     "status": "ok",
     "timestamp": 1616300742920,
     "user": {
      "displayName": "Alona Sychevska",
      "photoUrl": "https://lh3.googleusercontent.com/a-/AOh14GgZ0malPWqMlhvFcClcWBFiVxOfUoQ8L_bgF_hbkg=s64",
      "userId": "11058447506513815192"
     },
     "user_tz": 0
    },
    "id": "seasonal-jordan",
    "outputId": "11d25481-ef78-4362-d7bb-c0e0c4290c51"
   },
   "outputs": [
    {
     "data": {
      "text/html": [
       "<div>\n",
       "<style scoped>\n",
       "    .dataframe tbody tr th:only-of-type {\n",
       "        vertical-align: middle;\n",
       "    }\n",
       "\n",
       "    .dataframe tbody tr th {\n",
       "        vertical-align: top;\n",
       "    }\n",
       "\n",
       "    .dataframe thead th {\n",
       "        text-align: right;\n",
       "    }\n",
       "</style>\n",
       "<table border=\"1\" class=\"dataframe\">\n",
       "  <thead>\n",
       "    <tr style=\"text-align: right;\">\n",
       "      <th></th>\n",
       "      <th>id</th>\n",
       "      <th>group_id</th>\n",
       "      <th>name</th>\n",
       "      <th>alias</th>\n",
       "      <th>gender</th>\n",
       "      <th>deleted</th>\n",
       "      <th>description</th>\n",
       "      <th>about</th>\n",
       "      <th>popularity</th>\n",
       "      <th>active</th>\n",
       "    </tr>\n",
       "  </thead>\n",
       "  <tbody>\n",
       "    <tr>\n",
       "      <th>1</th>\n",
       "      <td>4</td>\n",
       "      <td>5</td>\n",
       "      <td>Анафилактический шок</td>\n",
       "      <td>anafilakticheskij-shok</td>\n",
       "      <td>all</td>\n",
       "      <td>1</td>\n",
       "      <td>Анафилактический шок Анафилаксия относится к о...</td>\n",
       "      <td>Симптомы Симптомы анафилактического шока голов...</td>\n",
       "      <td>0</td>\n",
       "      <td>1</td>\n",
       "    </tr>\n",
       "    <tr>\n",
       "      <th>2</th>\n",
       "      <td>5</td>\n",
       "      <td>5</td>\n",
       "      <td>Бронхиальная астма</td>\n",
       "      <td>bronhialnaya-astma</td>\n",
       "      <td>all</td>\n",
       "      <td>0</td>\n",
       "      <td>Бронхиальная астма БА заболевание для которого...</td>\n",
       "      <td>Бронхиальная астма была признана наиболее част...</td>\n",
       "      <td>0</td>\n",
       "      <td>1</td>\n",
       "    </tr>\n",
       "    <tr>\n",
       "      <th>3</th>\n",
       "      <td>6</td>\n",
       "      <td>5</td>\n",
       "      <td>Крапивница</td>\n",
       "      <td>krapivnica</td>\n",
       "      <td>all</td>\n",
       "      <td>0</td>\n",
       "      <td>Крапивница болезнь аллергического происхождени...</td>\n",
       "      <td>Крапивница занимает 2 место после бронхиальной...</td>\n",
       "      <td>0</td>\n",
       "      <td>1</td>\n",
       "    </tr>\n",
       "    <tr>\n",
       "      <th>4</th>\n",
       "      <td>7</td>\n",
       "      <td>5</td>\n",
       "      <td>Отек Квинке</td>\n",
       "      <td>otek-kvinke</td>\n",
       "      <td>all</td>\n",
       "      <td>0</td>\n",
       "      <td>Ангионевротический отек отек Квинке острая алл...</td>\n",
       "      <td>Причины В 80 случаев причиной развития отека К...</td>\n",
       "      <td>0</td>\n",
       "      <td>1</td>\n",
       "    </tr>\n",
       "    <tr>\n",
       "      <th>5</th>\n",
       "      <td>8</td>\n",
       "      <td>5</td>\n",
       "      <td>Поллиноз (Сенная лихорадка)</td>\n",
       "      <td>pollinoz</td>\n",
       "      <td>all</td>\n",
       "      <td>0</td>\n",
       "      <td>Поллиноз сезонный насморк сенная лихорадка одн...</td>\n",
       "      <td>Аллергия у взрослых и детей гиперчувствительна...</td>\n",
       "      <td>0</td>\n",
       "      <td>1</td>\n",
       "    </tr>\n",
       "  </tbody>\n",
       "</table>\n",
       "</div>"
      ],
      "text/plain": [
       "  id group_id                         name                   alias gender  \\\n",
       "1  4        5         Анафилактический шок  anafilakticheskij-shok    all   \n",
       "2  5        5           Бронхиальная астма      bronhialnaya-astma    all   \n",
       "3  6        5                   Крапивница              krapivnica    all   \n",
       "4  7        5                  Отек Квинке             otek-kvinke    all   \n",
       "5  8        5  Поллиноз (Сенная лихорадка)                pollinoz    all   \n",
       "\n",
       "  deleted                                        description  \\\n",
       "1       1  Анафилактический шок Анафилаксия относится к о...   \n",
       "2       0  Бронхиальная астма БА заболевание для которого...   \n",
       "3       0  Крапивница болезнь аллергического происхождени...   \n",
       "4       0  Ангионевротический отек отек Квинке острая алл...   \n",
       "5       0  Поллиноз сезонный насморк сенная лихорадка одн...   \n",
       "\n",
       "                                               about popularity active  \n",
       "1  Симптомы Симптомы анафилактического шока голов...          0      1  \n",
       "2  Бронхиальная астма была признана наиболее част...          0      1  \n",
       "3  Крапивница занимает 2 место после бронхиальной...          0      1  \n",
       "4  Причины В 80 случаев причиной развития отека К...          0      1  \n",
       "5  Аллергия у взрослых и детей гиперчувствительна...          0      1  "
      ]
     },
     "execution_count": 21,
     "metadata": {},
     "output_type": "execute_result"
    }
   ],
   "source": [
    "disease.head()"
   ]
  },
  {
   "cell_type": "code",
   "execution_count": 22,
   "id": "bright-security",
   "metadata": {
    "id": "bright-security"
   },
   "outputs": [],
   "source": [
    "# import re\n",
    "\n",
    "# html = '''<p>Зачастую анафилаксия развивается вследствие повторного контакта с аллергеном. Например, если наблюдается чувствительность к яду или слюне пчел, то первый укус может пройти без последствий, а дальнейший способен развивать анафилактическую реакцию, которая может проявиться как через полчаса, так и через 12 часов.</p>\",\"<h2>Симптомы</h2>'''\n",
    "\n",
    "# re.sub(\"<.*?>\", \" \", html)"
   ]
  },
  {
   "cell_type": "code",
   "execution_count": 23,
   "id": "protected-increase",
   "metadata": {
    "id": "protected-increase"
   },
   "outputs": [],
   "source": [
    "# nohtml_6 = []\n",
    "# for s in range(len(disease[6])):\n",
    "#     nohtml_6.append(re.sub(\"<.*?>\", \" \", disease[6][s]))"
   ]
  },
  {
   "cell_type": "code",
   "execution_count": 24,
   "id": "unknown-banner",
   "metadata": {
    "id": "unknown-banner"
   },
   "outputs": [],
   "source": [
    "# disease['desc'] = nohtml_6"
   ]
  },
  {
   "cell_type": "code",
   "execution_count": 25,
   "id": "incomplete-precipitation",
   "metadata": {
    "id": "incomplete-precipitation"
   },
   "outputs": [],
   "source": [
    "# почистити від &ndash, \\r, \\n, ...\n",
    "# disease"
   ]
  },
  {
   "cell_type": "code",
   "execution_count": 27,
   "id": "middle-identification",
   "metadata": {
    "id": "middle-identification"
   },
   "outputs": [],
   "source": [
    "disease_body_symptom = pd.read_csv('./disease_body_symptom.csv')"
   ]
  },
  {
   "cell_type": "code",
   "execution_count": 28,
   "id": "black-prisoner",
   "metadata": {
    "colab": {
     "base_uri": "https://localhost:8080/"
    },
    "executionInfo": {
     "elapsed": 982,
     "status": "ok",
     "timestamp": 1616300765553,
     "user": {
      "displayName": "Alona Sychevska",
      "photoUrl": "https://lh3.googleusercontent.com/a-/AOh14GgZ0malPWqMlhvFcClcWBFiVxOfUoQ8L_bgF_hbkg=s64",
      "userId": "11058447506513815192"
     },
     "user_tz": 0
    },
    "id": "black-prisoner",
    "outputId": "3e8df245-071f-4216-9eb9-6e8b342fcf5e"
   },
   "outputs": [
    {
     "name": "stdout",
     "output_type": "stream",
     "text": [
      "<class 'pandas.core.frame.DataFrame'>\n",
      "RangeIndex: 5625 entries, 0 to 5624\n",
      "Data columns (total 2 columns):\n",
      " #   Column           Non-Null Count  Dtype\n",
      "---  ------           --------------  -----\n",
      " 0   body_symptom_id  5625 non-null   int64\n",
      " 1   disease_id       5625 non-null   int64\n",
      "dtypes: int64(2)\n",
      "memory usage: 88.0 KB\n"
     ]
    }
   ],
   "source": [
    "disease_body_symptom.info()"
   ]
  },
  {
   "cell_type": "code",
   "execution_count": 29,
   "id": "median-remedy",
   "metadata": {
    "colab": {
     "base_uri": "https://localhost:8080/",
     "height": 204
    },
    "executionInfo": {
     "elapsed": 645,
     "status": "ok",
     "timestamp": 1616300767358,
     "user": {
      "displayName": "Alona Sychevska",
      "photoUrl": "https://lh3.googleusercontent.com/a-/AOh14GgZ0malPWqMlhvFcClcWBFiVxOfUoQ8L_bgF_hbkg=s64",
      "userId": "11058447506513815192"
     },
     "user_tz": 0
    },
    "id": "median-remedy",
    "outputId": "6743250c-4e3d-44ff-d820-79632d1f7a89"
   },
   "outputs": [
    {
     "data": {
      "text/html": [
       "<div>\n",
       "<style scoped>\n",
       "    .dataframe tbody tr th:only-of-type {\n",
       "        vertical-align: middle;\n",
       "    }\n",
       "\n",
       "    .dataframe tbody tr th {\n",
       "        vertical-align: top;\n",
       "    }\n",
       "\n",
       "    .dataframe thead th {\n",
       "        text-align: right;\n",
       "    }\n",
       "</style>\n",
       "<table border=\"1\" class=\"dataframe\">\n",
       "  <thead>\n",
       "    <tr style=\"text-align: right;\">\n",
       "      <th></th>\n",
       "      <th>body_symptom_id</th>\n",
       "      <th>disease_id</th>\n",
       "    </tr>\n",
       "  </thead>\n",
       "  <tbody>\n",
       "    <tr>\n",
       "      <th>0</th>\n",
       "      <td>1</td>\n",
       "      <td>71</td>\n",
       "    </tr>\n",
       "    <tr>\n",
       "      <th>1</th>\n",
       "      <td>1</td>\n",
       "      <td>87</td>\n",
       "    </tr>\n",
       "    <tr>\n",
       "      <th>2</th>\n",
       "      <td>1</td>\n",
       "      <td>93</td>\n",
       "    </tr>\n",
       "    <tr>\n",
       "      <th>3</th>\n",
       "      <td>1</td>\n",
       "      <td>118</td>\n",
       "    </tr>\n",
       "    <tr>\n",
       "      <th>4</th>\n",
       "      <td>1</td>\n",
       "      <td>119</td>\n",
       "    </tr>\n",
       "  </tbody>\n",
       "</table>\n",
       "</div>"
      ],
      "text/plain": [
       "   body_symptom_id  disease_id\n",
       "0                1          71\n",
       "1                1          87\n",
       "2                1          93\n",
       "3                1         118\n",
       "4                1         119"
      ]
     },
     "execution_count": 29,
     "metadata": {},
     "output_type": "execute_result"
    }
   ],
   "source": [
    "disease_body_symptom.head()"
   ]
  },
  {
   "cell_type": "code",
   "execution_count": 31,
   "id": "figured-norway",
   "metadata": {
    "id": "figured-norway"
   },
   "outputs": [],
   "source": [
    "disease_symptom = pd.read_csv('./disease_symptom.csv')"
   ]
  },
  {
   "cell_type": "code",
   "execution_count": 32,
   "id": "social-remark",
   "metadata": {
    "colab": {
     "base_uri": "https://localhost:8080/"
    },
    "executionInfo": {
     "elapsed": 941,
     "status": "ok",
     "timestamp": 1616300785141,
     "user": {
      "displayName": "Alona Sychevska",
      "photoUrl": "https://lh3.googleusercontent.com/a-/AOh14GgZ0malPWqMlhvFcClcWBFiVxOfUoQ8L_bgF_hbkg=s64",
      "userId": "11058447506513815192"
     },
     "user_tz": 0
    },
    "id": "social-remark",
    "outputId": "39a4e675-ebc1-4082-b46c-f0d36b81ee12"
   },
   "outputs": [
    {
     "data": {
      "text/plain": [
       "(3519, 2)"
      ]
     },
     "execution_count": 32,
     "metadata": {},
     "output_type": "execute_result"
    }
   ],
   "source": [
    "disease_symptom.shape"
   ]
  },
  {
   "cell_type": "code",
   "execution_count": 33,
   "id": "charming-ranking",
   "metadata": {
    "colab": {
     "base_uri": "https://localhost:8080/",
     "height": 204
    },
    "executionInfo": {
     "elapsed": 669,
     "status": "ok",
     "timestamp": 1616300787260,
     "user": {
      "displayName": "Alona Sychevska",
      "photoUrl": "https://lh3.googleusercontent.com/a-/AOh14GgZ0malPWqMlhvFcClcWBFiVxOfUoQ8L_bgF_hbkg=s64",
      "userId": "11058447506513815192"
     },
     "user_tz": 0
    },
    "id": "charming-ranking",
    "outputId": "9e7e4474-ac58-46b5-aff7-0173b29dd94f"
   },
   "outputs": [
    {
     "data": {
      "text/html": [
       "<div>\n",
       "<style scoped>\n",
       "    .dataframe tbody tr th:only-of-type {\n",
       "        vertical-align: middle;\n",
       "    }\n",
       "\n",
       "    .dataframe tbody tr th {\n",
       "        vertical-align: top;\n",
       "    }\n",
       "\n",
       "    .dataframe thead th {\n",
       "        text-align: right;\n",
       "    }\n",
       "</style>\n",
       "<table border=\"1\" class=\"dataframe\">\n",
       "  <thead>\n",
       "    <tr style=\"text-align: right;\">\n",
       "      <th></th>\n",
       "      <th>disease_id</th>\n",
       "      <th>symptom_id</th>\n",
       "    </tr>\n",
       "  </thead>\n",
       "  <tbody>\n",
       "    <tr>\n",
       "      <th>0</th>\n",
       "      <td>4</td>\n",
       "      <td>5</td>\n",
       "    </tr>\n",
       "    <tr>\n",
       "      <th>1</th>\n",
       "      <td>4</td>\n",
       "      <td>8</td>\n",
       "    </tr>\n",
       "    <tr>\n",
       "      <th>2</th>\n",
       "      <td>4</td>\n",
       "      <td>52</td>\n",
       "    </tr>\n",
       "    <tr>\n",
       "      <th>3</th>\n",
       "      <td>4</td>\n",
       "      <td>56</td>\n",
       "    </tr>\n",
       "    <tr>\n",
       "      <th>4</th>\n",
       "      <td>4</td>\n",
       "      <td>68</td>\n",
       "    </tr>\n",
       "  </tbody>\n",
       "</table>\n",
       "</div>"
      ],
      "text/plain": [
       "   disease_id  symptom_id\n",
       "0           4           5\n",
       "1           4           8\n",
       "2           4          52\n",
       "3           4          56\n",
       "4           4          68"
      ]
     },
     "execution_count": 33,
     "metadata": {},
     "output_type": "execute_result"
    }
   ],
   "source": [
    "disease_symptom.head()"
   ]
  },
  {
   "cell_type": "code",
   "execution_count": 35,
   "id": "technological-disaster",
   "metadata": {
    "id": "technological-disaster"
   },
   "outputs": [],
   "source": [
    "doc_spec = pd.read_csv('./doc_spec.csv')"
   ]
  },
  {
   "cell_type": "code",
   "execution_count": 36,
   "id": "national-income",
   "metadata": {
    "colab": {
     "base_uri": "https://localhost:8080/",
     "height": 204
    },
    "executionInfo": {
     "elapsed": 477,
     "status": "ok",
     "timestamp": 1616300801731,
     "user": {
      "displayName": "Alona Sychevska",
      "photoUrl": "https://lh3.googleusercontent.com/a-/AOh14GgZ0malPWqMlhvFcClcWBFiVxOfUoQ8L_bgF_hbkg=s64",
      "userId": "11058447506513815192"
     },
     "user_tz": 0
    },
    "id": "national-income",
    "outputId": "8641512d-062a-419e-80f3-224cf47e5bf8"
   },
   "outputs": [
    {
     "data": {
      "text/html": [
       "<div>\n",
       "<style scoped>\n",
       "    .dataframe tbody tr th:only-of-type {\n",
       "        vertical-align: middle;\n",
       "    }\n",
       "\n",
       "    .dataframe tbody tr th {\n",
       "        vertical-align: top;\n",
       "    }\n",
       "\n",
       "    .dataframe thead th {\n",
       "        text-align: right;\n",
       "    }\n",
       "</style>\n",
       "<table border=\"1\" class=\"dataframe\">\n",
       "  <thead>\n",
       "    <tr style=\"text-align: right;\">\n",
       "      <th></th>\n",
       "      <th>specialty_id</th>\n",
       "      <th>doctor_id</th>\n",
       "      <th>id</th>\n",
       "      <th>degree_id</th>\n",
       "      <th>category_id</th>\n",
       "      <th>is_child_doctor</th>\n",
       "      <th>active</th>\n",
       "      <th>deleted</th>\n",
       "      <th>since</th>\n",
       "      <th>default</th>\n",
       "    </tr>\n",
       "  </thead>\n",
       "  <tbody>\n",
       "    <tr>\n",
       "      <th>0</th>\n",
       "      <td>3</td>\n",
       "      <td>14</td>\n",
       "      <td>16</td>\n",
       "      <td>NaN</td>\n",
       "      <td>NaN</td>\n",
       "      <td>NaN</td>\n",
       "      <td>1.0</td>\n",
       "      <td>0.0</td>\n",
       "      <td>NaN</td>\n",
       "      <td>0</td>\n",
       "    </tr>\n",
       "    <tr>\n",
       "      <th>1</th>\n",
       "      <td>48</td>\n",
       "      <td>15</td>\n",
       "      <td>17</td>\n",
       "      <td>NaN</td>\n",
       "      <td>NaN</td>\n",
       "      <td>NaN</td>\n",
       "      <td>1.0</td>\n",
       "      <td>0.0</td>\n",
       "      <td>NaN</td>\n",
       "      <td>0</td>\n",
       "    </tr>\n",
       "    <tr>\n",
       "      <th>2</th>\n",
       "      <td>13</td>\n",
       "      <td>14</td>\n",
       "      <td>19</td>\n",
       "      <td>NaN</td>\n",
       "      <td>NaN</td>\n",
       "      <td>NaN</td>\n",
       "      <td>1.0</td>\n",
       "      <td>0.0</td>\n",
       "      <td>NaN</td>\n",
       "      <td>0</td>\n",
       "    </tr>\n",
       "    <tr>\n",
       "      <th>3</th>\n",
       "      <td>44</td>\n",
       "      <td>14</td>\n",
       "      <td>20</td>\n",
       "      <td>NaN</td>\n",
       "      <td>NaN</td>\n",
       "      <td>NaN</td>\n",
       "      <td>1.0</td>\n",
       "      <td>0.0</td>\n",
       "      <td>NaN</td>\n",
       "      <td>0</td>\n",
       "    </tr>\n",
       "    <tr>\n",
       "      <th>4</th>\n",
       "      <td>8</td>\n",
       "      <td>16</td>\n",
       "      <td>21</td>\n",
       "      <td>NaN</td>\n",
       "      <td>NaN</td>\n",
       "      <td>NaN</td>\n",
       "      <td>1.0</td>\n",
       "      <td>0.0</td>\n",
       "      <td>NaN</td>\n",
       "      <td>0</td>\n",
       "    </tr>\n",
       "  </tbody>\n",
       "</table>\n",
       "</div>"
      ],
      "text/plain": [
       "   specialty_id  doctor_id  id  degree_id  category_id  is_child_doctor  \\\n",
       "0             3         14  16        NaN          NaN              NaN   \n",
       "1            48         15  17        NaN          NaN              NaN   \n",
       "2            13         14  19        NaN          NaN              NaN   \n",
       "3            44         14  20        NaN          NaN              NaN   \n",
       "4             8         16  21        NaN          NaN              NaN   \n",
       "\n",
       "   active  deleted  since  default  \n",
       "0     1.0      0.0    NaN        0  \n",
       "1     1.0      0.0    NaN        0  \n",
       "2     1.0      0.0    NaN        0  \n",
       "3     1.0      0.0    NaN        0  \n",
       "4     1.0      0.0    NaN        0  "
      ]
     },
     "execution_count": 36,
     "metadata": {},
     "output_type": "execute_result"
    }
   ],
   "source": [
    "doc_spec.head()"
   ]
  },
  {
   "cell_type": "code",
   "execution_count": 37,
   "id": "hispanic-shopping",
   "metadata": {
    "colab": {
     "base_uri": "https://localhost:8080/"
    },
    "executionInfo": {
     "elapsed": 818,
     "status": "ok",
     "timestamp": 1616300804293,
     "user": {
      "displayName": "Alona Sychevska",
      "photoUrl": "https://lh3.googleusercontent.com/a-/AOh14GgZ0malPWqMlhvFcClcWBFiVxOfUoQ8L_bgF_hbkg=s64",
      "userId": "11058447506513815192"
     },
     "user_tz": 0
    },
    "id": "hispanic-shopping",
    "outputId": "53fc753e-5501-4768-cb6f-d92cd3931643"
   },
   "outputs": [
    {
     "name": "stdout",
     "output_type": "stream",
     "text": [
      "<class 'pandas.core.frame.DataFrame'>\n",
      "RangeIndex: 41082 entries, 0 to 41081\n",
      "Data columns (total 10 columns):\n",
      " #   Column           Non-Null Count  Dtype  \n",
      "---  ------           --------------  -----  \n",
      " 0   specialty_id     41082 non-null  int64  \n",
      " 1   doctor_id        41082 non-null  int64  \n",
      " 2   id               41082 non-null  int64  \n",
      " 3   degree_id        27451 non-null  float64\n",
      " 4   category_id      27451 non-null  float64\n",
      " 5   is_child_doctor  27234 non-null  float64\n",
      " 6   active           41080 non-null  float64\n",
      " 7   deleted          40919 non-null  float64\n",
      " 8   since            14977 non-null  float64\n",
      " 9   default          41082 non-null  int64  \n",
      "dtypes: float64(6), int64(4)\n",
      "memory usage: 3.1 MB\n"
     ]
    }
   ],
   "source": [
    "doc_spec.info()"
   ]
  },
  {
   "cell_type": "code",
   "execution_count": 39,
   "id": "conditional-deadline",
   "metadata": {
    "id": "conditional-deadline"
   },
   "outputs": [],
   "source": [
    "doctor = _read_csv('./doctor.csv')"
   ]
  },
  {
   "cell_type": "code",
   "execution_count": 40,
   "id": "respected-artwork",
   "metadata": {
    "colab": {
     "base_uri": "https://localhost:8080/",
     "height": 309
    },
    "executionInfo": {
     "elapsed": 663,
     "status": "ok",
     "timestamp": 1616300822174,
     "user": {
      "displayName": "Alona Sychevska",
      "photoUrl": "https://lh3.googleusercontent.com/a-/AOh14GgZ0malPWqMlhvFcClcWBFiVxOfUoQ8L_bgF_hbkg=s64",
      "userId": "11058447506513815192"
     },
     "user_tz": 0
    },
    "id": "respected-artwork",
    "outputId": "34de45cd-0626-481e-a28f-3a803fe90812"
   },
   "outputs": [
    {
     "data": {
      "text/html": [
       "<div>\n",
       "<style scoped>\n",
       "    .dataframe tbody tr th:only-of-type {\n",
       "        vertical-align: middle;\n",
       "    }\n",
       "\n",
       "    .dataframe tbody tr th {\n",
       "        vertical-align: top;\n",
       "    }\n",
       "\n",
       "    .dataframe thead th {\n",
       "        text-align: right;\n",
       "    }\n",
       "</style>\n",
       "<table border=\"1\" class=\"dataframe\">\n",
       "  <thead>\n",
       "    <tr style=\"text-align: right;\">\n",
       "      <th></th>\n",
       "      <th>0</th>\n",
       "      <th>1</th>\n",
       "      <th>2</th>\n",
       "      <th>3</th>\n",
       "      <th>4</th>\n",
       "      <th>5</th>\n",
       "      <th>6</th>\n",
       "      <th>7</th>\n",
       "      <th>8</th>\n",
       "      <th>9</th>\n",
       "      <th>...</th>\n",
       "      <th>55</th>\n",
       "      <th>56</th>\n",
       "      <th>57</th>\n",
       "      <th>58</th>\n",
       "      <th>59</th>\n",
       "      <th>60</th>\n",
       "      <th>61</th>\n",
       "      <th>62</th>\n",
       "      <th>63</th>\n",
       "      <th>64</th>\n",
       "    </tr>\n",
       "  </thead>\n",
       "  <tbody>\n",
       "    <tr>\n",
       "      <th>0</th>\n",
       "      <td>id</td>\n",
       "      <td>alias</td>\n",
       "      <td>category</td>\n",
       "      <td>experience</td>\n",
       "      <td>to_home</td>\n",
       "      <td>price</td>\n",
       "      <td>price_from</td>\n",
       "      <td>user_id</td>\n",
       "      <td>experience_description</td>\n",
       "      <td>short_about</td>\n",
       "      <td>...</td>\n",
       "      <td>experience_update_on</td>\n",
       "      <td>last_name_uk</td>\n",
       "      <td>name_uk</td>\n",
       "      <td>second_name_uk</td>\n",
       "      <td>about_uk</td>\n",
       "      <td>manager_id</td>\n",
       "      <td>operational_status</td>\n",
       "      <td>duty_doconline</td>\n",
       "      <td>nin</td>\n",
       "      <td>event_ref_id</td>\n",
       "    </tr>\n",
       "    <tr>\n",
       "      <th>1</th>\n",
       "      <td>12</td>\n",
       "      <td>6961c636ef541a9edcc4b2b1b1b82299</td>\n",
       "      <td>4</td>\n",
       "      <td>14</td>\n",
       "      <td>1</td>\n",
       "      <td>NULL</td>\n",
       "      <td>NULL</td>\n",
       "      <td>21</td>\n",
       "      <td>NULL</td>\n",
       "      <td></td>\n",
       "      <td>...</td>\n",
       "      <td>NULL</td>\n",
       "      <td>Анонімус</td>\n",
       "      <td>Р</td>\n",
       "      <td>В</td>\n",
       "      <td></td>\n",
       "      <td>498696</td>\n",
       "      <td>1</td>\n",
       "      <td>0</td>\n",
       "      <td>0</td>\n",
       "      <td>0</td>\n",
       "    </tr>\n",
       "    <tr>\n",
       "      <th>2</th>\n",
       "      <td>13</td>\n",
       "      <td>835b0c353cb19e85e3a1942da861aa20</td>\n",
       "      <td>3</td>\n",
       "      <td>16</td>\n",
       "      <td>NULL</td>\n",
       "      <td>NULL</td>\n",
       "      <td>NULL</td>\n",
       "      <td>23</td>\n",
       "      <td>NULL</td>\n",
       "      <td></td>\n",
       "      <td>...</td>\n",
       "      <td>NULL</td>\n",
       "      <td>Анонімус</td>\n",
       "      <td>Д</td>\n",
       "      <td>Ю</td>\n",
       "      <td></td>\n",
       "      <td>NULL</td>\n",
       "      <td>NULL</td>\n",
       "      <td>0</td>\n",
       "      <td>0</td>\n",
       "      <td>0</td>\n",
       "    </tr>\n",
       "    <tr>\n",
       "      <th>3</th>\n",
       "      <td>14</td>\n",
       "      <td>e552562ec79bc3be94d71fd444bf4de9</td>\n",
       "      <td>4</td>\n",
       "      <td>21</td>\n",
       "      <td>NULL</td>\n",
       "      <td>NULL</td>\n",
       "      <td>NULL</td>\n",
       "      <td>24</td>\n",
       "      <td>NULL</td>\n",
       "      <td></td>\n",
       "      <td>...</td>\n",
       "      <td>NULL</td>\n",
       "      <td>Анонімус</td>\n",
       "      <td>Е</td>\n",
       "      <td>Д</td>\n",
       "      <td></td>\n",
       "      <td>NULL</td>\n",
       "      <td>NULL</td>\n",
       "      <td>0</td>\n",
       "      <td>0</td>\n",
       "      <td>0</td>\n",
       "    </tr>\n",
       "    <tr>\n",
       "      <th>4</th>\n",
       "      <td>15</td>\n",
       "      <td>a311038a0040d39158e7fda962864cc2</td>\n",
       "      <td>1</td>\n",
       "      <td>8</td>\n",
       "      <td>NULL</td>\n",
       "      <td>NULL</td>\n",
       "      <td>NULL</td>\n",
       "      <td>26</td>\n",
       "      <td>NULL</td>\n",
       "      <td></td>\n",
       "      <td>...</td>\n",
       "      <td>NULL</td>\n",
       "      <td>Анонімус</td>\n",
       "      <td>А</td>\n",
       "      <td>М</td>\n",
       "      <td></td>\n",
       "      <td>NULL</td>\n",
       "      <td>NULL</td>\n",
       "      <td>0</td>\n",
       "      <td>0</td>\n",
       "      <td>0</td>\n",
       "    </tr>\n",
       "  </tbody>\n",
       "</table>\n",
       "<p>5 rows × 65 columns</p>\n",
       "</div>"
      ],
      "text/plain": [
       "   0                                 1         2           3        4      5   \\\n",
       "0  id                             alias  category  experience  to_home  price   \n",
       "1  12  6961c636ef541a9edcc4b2b1b1b82299         4          14        1   NULL   \n",
       "2  13  835b0c353cb19e85e3a1942da861aa20         3          16     NULL   NULL   \n",
       "3  14  e552562ec79bc3be94d71fd444bf4de9         4          21     NULL   NULL   \n",
       "4  15  a311038a0040d39158e7fda962864cc2         1           8     NULL   NULL   \n",
       "\n",
       "           6        7                       8            9   ...  \\\n",
       "0  price_from  user_id  experience_description  short_about  ...   \n",
       "1        NULL       21                    NULL               ...   \n",
       "2        NULL       23                    NULL               ...   \n",
       "3        NULL       24                    NULL               ...   \n",
       "4        NULL       26                    NULL               ...   \n",
       "\n",
       "                     55            56       57              58        59  \\\n",
       "0  experience_update_on  last_name_uk  name_uk  second_name_uk  about_uk   \n",
       "1                  NULL      Анонімус        Р               В             \n",
       "2                  NULL      Анонімус        Д               Ю             \n",
       "3                  NULL      Анонімус        Е               Д             \n",
       "4                  NULL      Анонімус        А               М             \n",
       "\n",
       "           60                  61              62   63            64  \n",
       "0  manager_id  operational_status  duty_doconline  nin  event_ref_id  \n",
       "1      498696                   1               0    0             0  \n",
       "2        NULL                NULL               0    0             0  \n",
       "3        NULL                NULL               0    0             0  \n",
       "4        NULL                NULL               0    0             0  \n",
       "\n",
       "[5 rows x 65 columns]"
      ]
     },
     "execution_count": 40,
     "metadata": {},
     "output_type": "execute_result"
    }
   ],
   "source": [
    "# колонки з NULL?\n",
    "doctor.head()"
   ]
  },
  {
   "cell_type": "code",
   "execution_count": 41,
   "id": "timely-distinction",
   "metadata": {
    "id": "timely-distinction"
   },
   "outputs": [],
   "source": [
    "doctor = doctor.rename(columns=doctor.iloc[0]).drop(doctor.index[0])"
   ]
  },
  {
   "cell_type": "code",
   "execution_count": 42,
   "id": "positive-technique",
   "metadata": {
    "colab": {
     "base_uri": "https://localhost:8080/"
    },
    "executionInfo": {
     "elapsed": 563,
     "status": "ok",
     "timestamp": 1616300825782,
     "user": {
      "displayName": "Alona Sychevska",
      "photoUrl": "https://lh3.googleusercontent.com/a-/AOh14GgZ0malPWqMlhvFcClcWBFiVxOfUoQ8L_bgF_hbkg=s64",
      "userId": "11058447506513815192"
     },
     "user_tz": 0
    },
    "id": "positive-technique",
    "outputId": "38980299-bb10-442c-d3d6-f5ae8842e9cf"
   },
   "outputs": [
    {
     "data": {
      "text/plain": [
       "Index(['id', 'alias', 'category', 'experience', 'to_home', 'price',\n",
       "       'price_from', 'user_id', 'experience_description', 'short_about',\n",
       "       'about', 'deleted', 'academic_title', 'send_request_phone',\n",
       "       'can_edit_self', 'courses', 'association', 'procedures', 'rate',\n",
       "       'review_count', 'active', 'media_id', 'education', 'additional_phone',\n",
       "       'price_description', 'child', 'recommend_review_count', 'adult',\n",
       "       'work_specialties', 'info', 'promo', 'without_contract', 'video',\n",
       "       'no_order', 'pet', 'license', 'integration_rate', 'duty', 'ref_url',\n",
       "       'moderated', 'status', 'terms_and_conditions_accepted',\n",
       "       'privacy_policy_accepted', 'region_id', 'city_id', 'avatar_img',\n",
       "       'ref_prompt_ua', 'ref_prompt', 'is_passport', 'passport_status',\n",
       "       'diploma_status', 'tax_status', 'is_diploma_old', 'dynamic_link',\n",
       "       'ref_doctor_id', 'experience_update_on', 'last_name_uk', 'name_uk',\n",
       "       'second_name_uk', 'about_uk', 'manager_id', 'operational_status',\n",
       "       'duty_doconline', 'nin', 'event_ref_id'],\n",
       "      dtype='object')"
      ]
     },
     "execution_count": 42,
     "metadata": {},
     "output_type": "execute_result"
    }
   ],
   "source": [
    "doctor.columns"
   ]
  },
  {
   "cell_type": "code",
   "execution_count": 43,
   "id": "characteristic-promise",
   "metadata": {
    "colab": {
     "base_uri": "https://localhost:8080/"
    },
    "executionInfo": {
     "elapsed": 920,
     "status": "ok",
     "timestamp": 1616300827173,
     "user": {
      "displayName": "Alona Sychevska",
      "photoUrl": "https://lh3.googleusercontent.com/a-/AOh14GgZ0malPWqMlhvFcClcWBFiVxOfUoQ8L_bgF_hbkg=s64",
      "userId": "11058447506513815192"
     },
     "user_tz": 0
    },
    "id": "characteristic-promise",
    "outputId": "8f61f2db-5b16-4fe8-fa9d-2070175bf956"
   },
   "outputs": [
    {
     "data": {
      "text/plain": [
       "id                    0\n",
       "alias                 0\n",
       "category              0\n",
       "experience            0\n",
       "to_home               0\n",
       "                     ..\n",
       "manager_id            0\n",
       "operational_status    0\n",
       "duty_doconline        0\n",
       "nin                   0\n",
       "event_ref_id          0\n",
       "Length: 65, dtype: int64"
      ]
     },
     "execution_count": 43,
     "metadata": {},
     "output_type": "execute_result"
    }
   ],
   "source": [
    "doctor.isnull().sum()"
   ]
  },
  {
   "cell_type": "code",
   "execution_count": 44,
   "id": "loose-quantity",
   "metadata": {
    "id": "loose-quantity"
   },
   "outputs": [],
   "source": [
    "doctor_diseases = pd.read_csv('./doctor_diseases.csv')"
   ]
  },
  {
   "cell_type": "code",
   "execution_count": 45,
   "id": "rolled-houston",
   "metadata": {
    "colab": {
     "base_uri": "https://localhost:8080/",
     "height": 204
    },
    "executionInfo": {
     "elapsed": 452,
     "status": "ok",
     "timestamp": 1616300841576,
     "user": {
      "displayName": "Alona Sychevska",
      "photoUrl": "https://lh3.googleusercontent.com/a-/AOh14GgZ0malPWqMlhvFcClcWBFiVxOfUoQ8L_bgF_hbkg=s64",
      "userId": "11058447506513815192"
     },
     "user_tz": 0
    },
    "id": "rolled-houston",
    "outputId": "1b8c7baa-5fd3-4e75-bf14-afc239c7dba8"
   },
   "outputs": [
    {
     "data": {
      "text/html": [
       "<div>\n",
       "<style scoped>\n",
       "    .dataframe tbody tr th:only-of-type {\n",
       "        vertical-align: middle;\n",
       "    }\n",
       "\n",
       "    .dataframe tbody tr th {\n",
       "        vertical-align: top;\n",
       "    }\n",
       "\n",
       "    .dataframe thead th {\n",
       "        text-align: right;\n",
       "    }\n",
       "</style>\n",
       "<table border=\"1\" class=\"dataframe\">\n",
       "  <thead>\n",
       "    <tr style=\"text-align: right;\">\n",
       "      <th></th>\n",
       "      <th>doc_id</th>\n",
       "      <th>dis_id</th>\n",
       "    </tr>\n",
       "  </thead>\n",
       "  <tbody>\n",
       "    <tr>\n",
       "      <th>0</th>\n",
       "      <td>13</td>\n",
       "      <td>13</td>\n",
       "    </tr>\n",
       "    <tr>\n",
       "      <th>1</th>\n",
       "      <td>13</td>\n",
       "      <td>14</td>\n",
       "    </tr>\n",
       "    <tr>\n",
       "      <th>2</th>\n",
       "      <td>13</td>\n",
       "      <td>15</td>\n",
       "    </tr>\n",
       "    <tr>\n",
       "      <th>3</th>\n",
       "      <td>13</td>\n",
       "      <td>17</td>\n",
       "    </tr>\n",
       "    <tr>\n",
       "      <th>4</th>\n",
       "      <td>13</td>\n",
       "      <td>21</td>\n",
       "    </tr>\n",
       "  </tbody>\n",
       "</table>\n",
       "</div>"
      ],
      "text/plain": [
       "   doc_id  dis_id\n",
       "0      13      13\n",
       "1      13      14\n",
       "2      13      15\n",
       "3      13      17\n",
       "4      13      21"
      ]
     },
     "execution_count": 45,
     "metadata": {},
     "output_type": "execute_result"
    }
   ],
   "source": [
    "doctor_diseases.head()"
   ]
  },
  {
   "cell_type": "code",
   "execution_count": 47,
   "id": "amber-pricing",
   "metadata": {
    "colab": {
     "base_uri": "https://localhost:8080/"
    },
    "executionInfo": {
     "elapsed": 18363,
     "status": "ok",
     "timestamp": 1616300875110,
     "user": {
      "displayName": "Alona Sychevska",
      "photoUrl": "https://lh3.googleusercontent.com/a-/AOh14GgZ0malPWqMlhvFcClcWBFiVxOfUoQ8L_bgF_hbkg=s64",
      "userId": "11058447506513815192"
     },
     "user_tz": 0
    },
    "id": "amber-pricing",
    "outputId": "13b0ce78-a6ba-4e09-e83e-276f4ff2df55"
   },
   "outputs": [
    {
     "name": "stderr",
     "output_type": "stream",
     "text": [
      "/home/ghadd/.local/lib/python3.9/site-packages/bs4/__init__.py:332: MarkupResemblesLocatorWarning: \".\" looks like a filename, not markup. You should probably open this file and pass the filehandle into Beautiful Soup.\n",
      "  warnings.warn(\n",
      "/home/ghadd/.local/lib/python3.9/site-packages/bs4/__init__.py:332: MarkupResemblesLocatorWarning: \"..\" looks like a filename, not markup. You should probably open this file and pass the filehandle into Beautiful Soup.\n",
      "  warnings.warn(\n"
     ]
    }
   ],
   "source": [
    "hackathon_order = _read_csv('./hackathon_order.csv')\n",
    "hackathon_order = hackathon_order.rename(columns=hackathon_order.iloc[0]).drop(hackathon_order.index[0])\n",
    "hackathon_order.drop(hackathon_order.columns[70:], axis=1, inplace=True)\n",
    "hackathon_order['comment'] = hackathon_order['comment'].apply(clean_html)"
   ]
  },
  {
   "cell_type": "code",
   "execution_count": 48,
   "id": "becoming-stage",
   "metadata": {
    "colab": {
     "base_uri": "https://localhost:8080/",
     "height": 428
    },
    "executionInfo": {
     "elapsed": 743,
     "status": "ok",
     "timestamp": 1616300878794,
     "user": {
      "displayName": "Alona Sychevska",
      "photoUrl": "https://lh3.googleusercontent.com/a-/AOh14GgZ0malPWqMlhvFcClcWBFiVxOfUoQ8L_bgF_hbkg=s64",
      "userId": "11058447506513815192"
     },
     "user_tz": 0
    },
    "id": "becoming-stage",
    "outputId": "6b89e7de-c4fa-49a7-98b5-e3a8052a2635"
   },
   "outputs": [
    {
     "data": {
      "text/html": [
       "<div>\n",
       "<style scoped>\n",
       "    .dataframe tbody tr th:only-of-type {\n",
       "        vertical-align: middle;\n",
       "    }\n",
       "\n",
       "    .dataframe tbody tr th {\n",
       "        vertical-align: top;\n",
       "    }\n",
       "\n",
       "    .dataframe thead th {\n",
       "        text-align: right;\n",
       "    }\n",
       "</style>\n",
       "<table border=\"1\" class=\"dataframe\">\n",
       "  <thead>\n",
       "    <tr style=\"text-align: right;\">\n",
       "      <th></th>\n",
       "      <th>id</th>\n",
       "      <th>adult</th>\n",
       "      <th>email</th>\n",
       "      <th>last_name</th>\n",
       "      <th>second_name</th>\n",
       "      <th>name</th>\n",
       "      <th>gender</th>\n",
       "      <th>date_create</th>\n",
       "      <th>date_update</th>\n",
       "      <th>comment</th>\n",
       "      <th>...</th>\n",
       "      <th>test</th>\n",
       "      <th>loyalty</th>\n",
       "      <th>slots_shown</th>\n",
       "      <th>integration_status_id</th>\n",
       "      <th>price_marker</th>\n",
       "      <th>quantity_marker</th>\n",
       "      <th>another_person</th>\n",
       "      <th>referral</th>\n",
       "      <th>status_changed_at</th>\n",
       "      <th>phone_hash</th>\n",
       "    </tr>\n",
       "  </thead>\n",
       "  <tbody>\n",
       "    <tr>\n",
       "      <th>1</th>\n",
       "      <td>54</td>\n",
       "      <td>1</td>\n",
       "      <td>test@test.com</td>\n",
       "      <td>Аннонимус</td>\n",
       "      <td>В</td>\n",
       "      <td>О</td>\n",
       "      <td>female</td>\n",
       "      <td>2014-02-10 07:16:04</td>\n",
       "      <td>2021-03-18 08:59:10</td>\n",
       "      <td>Прием к врачу Попович Срок беременности 15 нед...</td>\n",
       "      <td>...</td>\n",
       "      <td>0</td>\n",
       "      <td>0</td>\n",
       "      <td>0</td>\n",
       "      <td>NULL</td>\n",
       "      <td>NULL</td>\n",
       "      <td>NULL</td>\n",
       "      <td>0</td>\n",
       "      <td>NULL</td>\n",
       "      <td>NULL</td>\n",
       "      <td>bb41ca8ba3ef119e5e87d34cb8fc586e</td>\n",
       "    </tr>\n",
       "    <tr>\n",
       "      <th>2</th>\n",
       "      <td>59</td>\n",
       "      <td>1</td>\n",
       "      <td>test@test.com</td>\n",
       "      <td>Аннонимус</td>\n",
       "      <td>NULL</td>\n",
       "      <td>Ц</td>\n",
       "      <td>female</td>\n",
       "      <td>2014-02-12 02:12:23</td>\n",
       "      <td>2021-03-18 08:59:10</td>\n",
       "      <td>здраствуйте хотелабы у вас проконсультироваца ...</td>\n",
       "      <td>...</td>\n",
       "      <td>0</td>\n",
       "      <td>0</td>\n",
       "      <td>0</td>\n",
       "      <td>NULL</td>\n",
       "      <td>NULL</td>\n",
       "      <td>NULL</td>\n",
       "      <td>0</td>\n",
       "      <td>NULL</td>\n",
       "      <td>NULL</td>\n",
       "      <td>1d2d2d3b7c25ae8cd025ba16b7840e79</td>\n",
       "    </tr>\n",
       "    <tr>\n",
       "      <th>3</th>\n",
       "      <td>62</td>\n",
       "      <td>0</td>\n",
       "      <td>test@test.com</td>\n",
       "      <td>Аннонимус</td>\n",
       "      <td>NULL</td>\n",
       "      <td>NULL</td>\n",
       "      <td>male</td>\n",
       "      <td>2014-02-12 08:11:32</td>\n",
       "      <td>2021-03-12 20:54:49</td>\n",
       "      <td>Ребенку поставили диагноз рефлюкс 23 степени</td>\n",
       "      <td>...</td>\n",
       "      <td>0</td>\n",
       "      <td>0</td>\n",
       "      <td>0</td>\n",
       "      <td>NULL</td>\n",
       "      <td>NULL</td>\n",
       "      <td>NULL</td>\n",
       "      <td>0</td>\n",
       "      <td>NULL</td>\n",
       "      <td>NULL</td>\n",
       "      <td>1f179ea8ac16342dd5adb96ab74b4ee5</td>\n",
       "    </tr>\n",
       "    <tr>\n",
       "      <th>4</th>\n",
       "      <td>64</td>\n",
       "      <td>1</td>\n",
       "      <td>test@test.com</td>\n",
       "      <td>Аннонимус</td>\n",
       "      <td>NULL</td>\n",
       "      <td>А</td>\n",
       "      <td>male</td>\n",
       "      <td>2014-02-12 10:39:22</td>\n",
       "      <td>2021-03-18 08:59:10</td>\n",
       "      <td>Кровотечение слабость</td>\n",
       "      <td>...</td>\n",
       "      <td>0</td>\n",
       "      <td>0</td>\n",
       "      <td>0</td>\n",
       "      <td>NULL</td>\n",
       "      <td>NULL</td>\n",
       "      <td>NULL</td>\n",
       "      <td>0</td>\n",
       "      <td>NULL</td>\n",
       "      <td>NULL</td>\n",
       "      <td>32c48af4afcfd0b2ef5b5578e7187f64</td>\n",
       "    </tr>\n",
       "    <tr>\n",
       "      <th>5</th>\n",
       "      <td>65</td>\n",
       "      <td>1</td>\n",
       "      <td>test@test.com</td>\n",
       "      <td>Аннонимус</td>\n",
       "      <td></td>\n",
       "      <td>И</td>\n",
       "      <td>male</td>\n",
       "      <td>2014-02-12 22:43:41</td>\n",
       "      <td>2021-03-18 08:59:10</td>\n",
       "      <td>Грибок на коже консультация и лечение</td>\n",
       "      <td>...</td>\n",
       "      <td>0</td>\n",
       "      <td>0</td>\n",
       "      <td>0</td>\n",
       "      <td>NULL</td>\n",
       "      <td>NULL</td>\n",
       "      <td>NULL</td>\n",
       "      <td>0</td>\n",
       "      <td>NULL</td>\n",
       "      <td>NULL</td>\n",
       "      <td>0b4ebd24e8845d8d31e696b244d1112d</td>\n",
       "    </tr>\n",
       "  </tbody>\n",
       "</table>\n",
       "<p>5 rows × 70 columns</p>\n",
       "</div>"
      ],
      "text/plain": [
       "   id adult          email  last_name second_name  name  gender  \\\n",
       "1  54     1  test@test.com  Аннонимус           В     О  female   \n",
       "2  59     1  test@test.com  Аннонимус        NULL     Ц  female   \n",
       "3  62     0  test@test.com  Аннонимус        NULL  NULL    male   \n",
       "4  64     1  test@test.com  Аннонимус        NULL     А    male   \n",
       "5  65     1  test@test.com  Аннонимус                 И    male   \n",
       "\n",
       "           date_create          date_update  \\\n",
       "1  2014-02-10 07:16:04  2021-03-18 08:59:10   \n",
       "2  2014-02-12 02:12:23  2021-03-18 08:59:10   \n",
       "3  2014-02-12 08:11:32  2021-03-12 20:54:49   \n",
       "4  2014-02-12 10:39:22  2021-03-18 08:59:10   \n",
       "5  2014-02-12 22:43:41  2021-03-18 08:59:10   \n",
       "\n",
       "                                             comment  ... test loyalty  \\\n",
       "1  Прием к врачу Попович Срок беременности 15 нед...  ...    0       0   \n",
       "2  здраствуйте хотелабы у вас проконсультироваца ...  ...    0       0   \n",
       "3       Ребенку поставили диагноз рефлюкс 23 степени  ...    0       0   \n",
       "4                              Кровотечение слабость  ...    0       0   \n",
       "5              Грибок на коже консультация и лечение  ...    0       0   \n",
       "\n",
       "  slots_shown integration_status_id price_marker quantity_marker  \\\n",
       "1           0                  NULL         NULL            NULL   \n",
       "2           0                  NULL         NULL            NULL   \n",
       "3           0                  NULL         NULL            NULL   \n",
       "4           0                  NULL         NULL            NULL   \n",
       "5           0                  NULL         NULL            NULL   \n",
       "\n",
       "  another_person referral status_changed_at                        phone_hash  \n",
       "1              0     NULL              NULL  bb41ca8ba3ef119e5e87d34cb8fc586e  \n",
       "2              0     NULL              NULL  1d2d2d3b7c25ae8cd025ba16b7840e79  \n",
       "3              0     NULL              NULL  1f179ea8ac16342dd5adb96ab74b4ee5  \n",
       "4              0     NULL              NULL  32c48af4afcfd0b2ef5b5578e7187f64  \n",
       "5              0     NULL              NULL  0b4ebd24e8845d8d31e696b244d1112d  \n",
       "\n",
       "[5 rows x 70 columns]"
      ]
     },
     "execution_count": 48,
     "metadata": {},
     "output_type": "execute_result"
    }
   ],
   "source": [
    "hackathon_order.head()"
   ]
  },
  {
   "cell_type": "code",
   "execution_count": null,
   "id": "applied-amber",
   "metadata": {
    "id": "applied-amber"
   },
   "outputs": [],
   "source": [
    "# колонки email, last_name, ... видалити (?)\n",
    "hackathon_order.drop(columns = ['email', 'last_name','second_name', 'name'], inplace=True)\n",
    "# comment,  симптоми?"
   ]
  },
  {
   "cell_type": "code",
   "execution_count": null,
   "id": "harmful-investment",
   "metadata": {
    "colab": {
     "base_uri": "https://localhost:8080/"
    },
    "executionInfo": {
     "elapsed": 542,
     "status": "ok",
     "timestamp": 1616300883082,
     "user": {
      "displayName": "Alona Sychevska",
      "photoUrl": "https://lh3.googleusercontent.com/a-/AOh14GgZ0malPWqMlhvFcClcWBFiVxOfUoQ8L_bgF_hbkg=s64",
      "userId": "11058447506513815192"
     },
     "user_tz": 0
    },
    "id": "harmful-investment",
    "outputId": "e0434d29-8e06-421c-ced0-ca88b4c16c87"
   },
   "outputs": [
    {
     "data": {
      "text/plain": [
       "array(['complete', 'fail', 'new', 'NULL', '21385', '', '0', '1', '3',\n",
       "       '114', '42', '4', '6', '20', '27', '9951', '24', 'approve',\n",
       "       'onApprove'], dtype=object)"
      ]
     },
     "execution_count": 46,
     "metadata": {
      "tags": []
     },
     "output_type": "execute_result"
    }
   ],
   "source": [
    "hackathon_order.mainStatus.unique()"
   ]
  },
  {
   "cell_type": "code",
   "execution_count": null,
   "id": "certified-catalog",
   "metadata": {
    "colab": {
     "base_uri": "https://localhost:8080/",
     "height": 134
    },
    "executionInfo": {
     "elapsed": 782,
     "status": "ok",
     "timestamp": 1616300896948,
     "user": {
      "displayName": "Alona Sychevska",
      "photoUrl": "https://lh3.googleusercontent.com/a-/AOh14GgZ0malPWqMlhvFcClcWBFiVxOfUoQ8L_bgF_hbkg=s64",
      "userId": "11058447506513815192"
     },
     "user_tz": 0
    },
    "id": "certified-catalog",
    "outputId": "4ee3daad-f7ce-4b9e-a72d-bcab24821e7b"
   },
   "outputs": [
    {
     "data": {
      "text/html": [
       "<div>\n",
       "<style scoped>\n",
       "    .dataframe tbody tr th:only-of-type {\n",
       "        vertical-align: middle;\n",
       "    }\n",
       "\n",
       "    .dataframe tbody tr th {\n",
       "        vertical-align: top;\n",
       "    }\n",
       "\n",
       "    .dataframe thead th {\n",
       "        text-align: right;\n",
       "    }\n",
       "</style>\n",
       "<table border=\"1\" class=\"dataframe\">\n",
       "  <thead>\n",
       "    <tr style=\"text-align: right;\">\n",
       "      <th></th>\n",
       "      <th>id</th>\n",
       "      <th>adult</th>\n",
       "      <th>gender</th>\n",
       "      <th>date_create</th>\n",
       "      <th>date_update</th>\n",
       "      <th>comment</th>\n",
       "      <th>deleted</th>\n",
       "      <th>address</th>\n",
       "      <th>operator</th>\n",
       "      <th>specialty_id</th>\n",
       "      <th>user_id</th>\n",
       "      <th>order_status_id</th>\n",
       "      <th>doctor_id</th>\n",
       "      <th>affiliate_id</th>\n",
       "      <th>timetable_id</th>\n",
       "      <th>city_id</th>\n",
       "      <th>specialOffer_id</th>\n",
       "      <th>referral_program_partner_id</th>\n",
       "      <th>referral_program_commission</th>\n",
       "      <th>mainStatus</th>\n",
       "      <th>status</th>\n",
       "      <th>timeStatus</th>\n",
       "      <th>cancelStatus</th>\n",
       "      <th>qtStatus</th>\n",
       "      <th>sms_send</th>\n",
       "      <th>desire_time</th>\n",
       "      <th>desire_time_alt</th>\n",
       "      <th>to_home</th>\n",
       "      <th>is_read</th>\n",
       "      <th>type</th>\n",
       "      <th>source</th>\n",
       "      <th>updated</th>\n",
       "      <th>type_id</th>\n",
       "      <th>alarm</th>\n",
       "      <th>alarm_user</th>\n",
       "      <th>will_be_treated</th>\n",
       "      <th>next_contact_time</th>\n",
       "      <th>alternate</th>\n",
       "      <th>online_order</th>\n",
       "      <th>clinic_notified</th>\n",
       "      <th>support</th>\n",
       "      <th>expired</th>\n",
       "      <th>desire_time_range</th>\n",
       "      <th>canceled</th>\n",
       "      <th>service_id</th>\n",
       "      <th>direction_service_id</th>\n",
       "      <th>region_clinic_notified</th>\n",
       "      <th>online_order_date</th>\n",
       "      <th>approve_email_send</th>\n",
       "      <th>cancel_two</th>\n",
       "      <th>slot_id</th>\n",
       "      <th>integration_service_id</th>\n",
       "      <th>schedule_id</th>\n",
       "      <th>additional_status</th>\n",
       "      <th>clinic_update_status</th>\n",
       "      <th>priority</th>\n",
       "      <th>test</th>\n",
       "      <th>loyalty</th>\n",
       "      <th>slots_shown</th>\n",
       "      <th>integration_status_id</th>\n",
       "      <th>price_marker</th>\n",
       "      <th>quantity_marker</th>\n",
       "      <th>another_person</th>\n",
       "      <th>referral</th>\n",
       "      <th>status_changed_at</th>\n",
       "      <th>phone_hash</th>\n",
       "    </tr>\n",
       "  </thead>\n",
       "  <tbody>\n",
       "    <tr>\n",
       "      <th>51677</th>\n",
       "      <td>,0,г.Аннонимный улица Неизвестная\"\"</td>\n",
       "      <td>422475</td>\n",
       "      <td>605</td>\n",
       "      <td>NULL</td>\n",
       "      <td>1</td>\n",
       "      <td>4241</td>\n",
       "      <td>NULL</td>\n",
       "      <td>NULL</td>\n",
       "      <td>complete</td>\n",
       "      <td></td>\n",
       "      <td>NULL</td>\n",
       "      <td>NULL</td>\n",
       "      <td>NULL</td>\n",
       "      <td>1</td>\n",
       "      <td>2019-11-07 14:00:00</td>\n",
       "      <td>NULL</td>\n",
       "      <td>0</td>\n",
       "      <td>0</td>\n",
       "      <td>hospital</td>\n",
       "      <td>24</td>\n",
       "      <td>NULL</td>\n",
       "      <td>0</td>\n",
       "      <td>NULL</td>\n",
       "      <td>NULL</td>\n",
       "      <td>0</td>\n",
       "      <td>2019-10-31 09:35:00</td>\n",
       "      <td>NULL</td>\n",
       "      <td>0</td>\n",
       "      <td>0</td>\n",
       "      <td>0</td>\n",
       "      <td>0</td>\n",
       "      <td>[14:00\"]\"\"\"</td>\n",
       "      <td>0</td>\n",
       "      <td>NULL</td>\n",
       "      <td>NULL</td>\n",
       "      <td>0</td>\n",
       "      <td>NULL</td>\n",
       "      <td>1</td>\n",
       "      <td>0</td>\n",
       "      <td>NULL</td>\n",
       "      <td>NULL</td>\n",
       "      <td>NULL</td>\n",
       "      <td>NULL</td>\n",
       "      <td>NULL</td>\n",
       "      <td>2</td>\n",
       "      <td>0</td>\n",
       "      <td>0</td>\n",
       "      <td>1</td>\n",
       "      <td>NULL</td>\n",
       "      <td>NULL</td>\n",
       "      <td>NULL</td>\n",
       "      <td>0</td>\n",
       "      <td>NULL</td>\n",
       "      <td>NULL</td>\n",
       "      <td>11b73340584c8bee96ca44604b158eba</td>\n",
       "      <td></td>\n",
       "      <td></td>\n",
       "      <td></td>\n",
       "      <td></td>\n",
       "      <td></td>\n",
       "      <td></td>\n",
       "      <td></td>\n",
       "      <td></td>\n",
       "      <td></td>\n",
       "      <td></td>\n",
       "      <td></td>\n",
       "    </tr>\n",
       "  </tbody>\n",
       "</table>\n",
       "</div>"
      ],
      "text/plain": [
       "                                        id   adult  ... status_changed_at phone_hash\n",
       "51677  ,0,г.Аннонимный улица Неизвестная\"\"  422475  ...                             \n",
       "\n",
       "[1 rows x 66 columns]"
      ]
     },
     "execution_count": 48,
     "metadata": {
      "tags": []
     },
     "output_type": "execute_result"
    }
   ],
   "source": [
    "hackathon_order[hackathon_order['mainStatus'] == '24']"
   ]
  },
  {
   "cell_type": "code",
   "execution_count": null,
   "id": "searching-gossip",
   "metadata": {
    "colab": {
     "base_uri": "https://localhost:8080/"
    },
    "executionInfo": {
     "elapsed": 661,
     "status": "ok",
     "timestamp": 1616300900922,
     "user": {
      "displayName": "Alona Sychevska",
      "photoUrl": "https://lh3.googleusercontent.com/a-/AOh14GgZ0malPWqMlhvFcClcWBFiVxOfUoQ8L_bgF_hbkg=s64",
      "userId": "11058447506513815192"
     },
     "user_tz": 0
    },
    "id": "searching-gossip",
    "outputId": "8a7946b7-9611-4fc9-ffd4-54fa63e85822"
   },
   "outputs": [
    {
     "data": {
      "text/plain": [
       "7087"
      ]
     },
     "execution_count": 49,
     "metadata": {
      "tags": []
     },
     "output_type": "execute_result"
    }
   ],
   "source": [
    "len(pd.unique(hackathon_order['doctor_id']))"
   ]
  },
  {
   "cell_type": "code",
   "execution_count": null,
   "id": "circular-portugal",
   "metadata": {
    "id": "circular-portugal"
   },
   "outputs": [],
   "source": [
    "comments = hackathon_order[['comment', 'doctor_id']]"
   ]
  },
  {
   "cell_type": "code",
   "execution_count": null,
   "id": "partial-truck",
   "metadata": {
    "colab": {
     "base_uri": "https://localhost:8080/",
     "height": 419
    },
    "executionInfo": {
     "elapsed": 540,
     "status": "ok",
     "timestamp": 1616300906055,
     "user": {
      "displayName": "Alona Sychevska",
      "photoUrl": "https://lh3.googleusercontent.com/a-/AOh14GgZ0malPWqMlhvFcClcWBFiVxOfUoQ8L_bgF_hbkg=s64",
      "userId": "11058447506513815192"
     },
     "user_tz": 0
    },
    "id": "partial-truck",
    "outputId": "becd73cd-fef4-444c-f6a2-18c181522f5f"
   },
   "outputs": [
    {
     "data": {
      "text/html": [
       "<div>\n",
       "<style scoped>\n",
       "    .dataframe tbody tr th:only-of-type {\n",
       "        vertical-align: middle;\n",
       "    }\n",
       "\n",
       "    .dataframe tbody tr th {\n",
       "        vertical-align: top;\n",
       "    }\n",
       "\n",
       "    .dataframe thead th {\n",
       "        text-align: right;\n",
       "    }\n",
       "</style>\n",
       "<table border=\"1\" class=\"dataframe\">\n",
       "  <thead>\n",
       "    <tr style=\"text-align: right;\">\n",
       "      <th></th>\n",
       "      <th>comment</th>\n",
       "      <th>doctor_id</th>\n",
       "    </tr>\n",
       "  </thead>\n",
       "  <tbody>\n",
       "    <tr>\n",
       "      <th>1</th>\n",
       "      <td>Прием к врачу Попович Срок беременности 15 нед...</td>\n",
       "      <td>36</td>\n",
       "    </tr>\n",
       "    <tr>\n",
       "      <th>2</th>\n",
       "      <td>здраствуйте хотелабы у вас проконсультироваца ...</td>\n",
       "      <td>36</td>\n",
       "    </tr>\n",
       "    <tr>\n",
       "      <th>3</th>\n",
       "      <td>Ребенку поставили диагноз рефлюкс 23 степени</td>\n",
       "      <td>65</td>\n",
       "    </tr>\n",
       "    <tr>\n",
       "      <th>4</th>\n",
       "      <td>Кровотечение слабость</td>\n",
       "      <td>152</td>\n",
       "    </tr>\n",
       "    <tr>\n",
       "      <th>5</th>\n",
       "      <td>Грибок на коже консультация и лечение</td>\n",
       "      <td>243</td>\n",
       "    </tr>\n",
       "    <tr>\n",
       "      <th>...</th>\n",
       "      <td>...</td>\n",
       "      <td>...</td>\n",
       "    </tr>\n",
       "    <tr>\n",
       "      <th>62094</th>\n",
       "      <td>Зробити узі мочевого міхура простати і передмі...</td>\n",
       "      <td>9881</td>\n",
       "    </tr>\n",
       "    <tr>\n",
       "      <th>62095</th>\n",
       "      <td>Здравствуйте Сдавал кровь на анализы для карди...</td>\n",
       "      <td>4148</td>\n",
       "    </tr>\n",
       "    <tr>\n",
       "      <th>62096</th>\n",
       "      <td>ежегодное обследование</td>\n",
       "      <td>2327</td>\n",
       "    </tr>\n",
       "    <tr>\n",
       "      <th>62097</th>\n",
       "      <td>Нежить температура та головний біль</td>\n",
       "      <td>10469</td>\n",
       "    </tr>\n",
       "    <tr>\n",
       "      <th>62098</th>\n",
       "      <td>Семейный врач посылает на консультацию</td>\n",
       "      <td>9863</td>\n",
       "    </tr>\n",
       "  </tbody>\n",
       "</table>\n",
       "<p>62098 rows × 2 columns</p>\n",
       "</div>"
      ],
      "text/plain": [
       "                                                 comment doctor_id\n",
       "1      Прием к врачу Попович Срок беременности 15 нед...        36\n",
       "2      здраствуйте хотелабы у вас проконсультироваца ...        36\n",
       "3           Ребенку поставили диагноз рефлюкс 23 степени        65\n",
       "4                                  Кровотечение слабость       152\n",
       "5                  Грибок на коже консультация и лечение       243\n",
       "...                                                  ...       ...\n",
       "62094  Зробити узі мочевого міхура простати і передмі...      9881\n",
       "62095  Здравствуйте Сдавал кровь на анализы для карди...      4148\n",
       "62096                             ежегодное обследование      2327\n",
       "62097                Нежить температура та головний біль     10469\n",
       "62098             Семейный врач посылает на консультацию      9863\n",
       "\n",
       "[62098 rows x 2 columns]"
      ]
     },
     "execution_count": 51,
     "metadata": {
      "tags": []
     },
     "output_type": "execute_result"
    }
   ],
   "source": [
    "comments"
   ]
  },
  {
   "cell_type": "code",
   "execution_count": null,
   "id": "blessed-corner",
   "metadata": {
    "colab": {
     "base_uri": "https://localhost:8080/"
    },
    "executionInfo": {
     "elapsed": 600,
     "status": "ok",
     "timestamp": 1616300909433,
     "user": {
      "displayName": "Alona Sychevska",
      "photoUrl": "https://lh3.googleusercontent.com/a-/AOh14GgZ0malPWqMlhvFcClcWBFiVxOfUoQ8L_bgF_hbkg=s64",
      "userId": "11058447506513815192"
     },
     "user_tz": 0
    },
    "id": "blessed-corner",
    "outputId": "7b47667f-cb2d-48fa-8494-019ed145267f"
   },
   "outputs": [
    {
     "data": {
      "text/plain": [
       "Index(['id', 'alias', 'category', 'experience', 'to_home', 'price',\n",
       "       'price_from', 'user_id', 'experience_description', 'short_about',\n",
       "       'about', 'deleted', 'academic_title', 'send_request_phone',\n",
       "       'can_edit_self', 'courses', 'association', 'procedures', 'rate',\n",
       "       'review_count', 'active', 'media_id', 'education', 'additional_phone',\n",
       "       'price_description', 'child', 'recommend_review_count', 'adult',\n",
       "       'work_specialties', 'info', 'promo', 'without_contract', 'video',\n",
       "       'no_order', 'pet', 'license', 'integration_rate', 'duty', 'ref_url',\n",
       "       'moderated', 'status', 'terms_and_conditions_accepted',\n",
       "       'privacy_policy_accepted', 'region_id', 'city_id', 'avatar_img',\n",
       "       'ref_prompt_ua', 'ref_prompt', 'is_passport', 'passport_status',\n",
       "       'diploma_status', 'tax_status', 'is_diploma_old', 'dynamic_link',\n",
       "       'ref_doctor_id', 'experience_update_on', 'last_name_uk', 'name_uk',\n",
       "       'second_name_uk', 'about_uk', 'manager_id', 'operational_status',\n",
       "       'duty_doconline', 'nin', 'event_ref_id'],\n",
       "      dtype='object')"
      ]
     },
     "execution_count": 52,
     "metadata": {
      "tags": []
     },
     "output_type": "execute_result"
    }
   ],
   "source": [
    "doctor.columns"
   ]
  },
  {
   "cell_type": "code",
   "execution_count": null,
   "id": "mF8RVBP8HRqa",
   "metadata": {
    "id": "mF8RVBP8HRqa"
   },
   "outputs": [],
   "source": [
    "doctor.rename(columns={'id': 'doctor_id'})"
   ]
  },
  {
   "cell_type": "code",
   "execution_count": null,
   "id": "2lLXGx_QHAFa",
   "metadata": {
    "id": "2lLXGx_QHAFa"
   },
   "outputs": [],
   "source": [
    "comments_doctor = comments.merge(doctor['doctor_id'], on='doctor_id', how='inner')"
   ]
  },
  {
   "cell_type": "code",
   "execution_count": null,
   "id": "AOoGnNs9K1tE",
   "metadata": {
    "id": "AOoGnNs9K1tE"
   },
   "outputs": [],
   "source": [
    "nlp = spacy.load(\"ru_core_news_lg\")"
   ]
  },
  {
   "cell_type": "code",
   "execution_count": null,
   "id": "2Tqx57pFKxYj",
   "metadata": {
    "id": "2Tqx57pFKxYj"
   },
   "outputs": [],
   "source": [
    "def spacy_tokinize(sentence):\n",
    "    template = nlp(sentence)\n",
    "    # Create list of word tokens after removing stopwords\n",
    "    filtered_sentence =[] \n",
    "    for token in template:\n",
    "        lexeme = nlp.vocab[token.text]\n",
    "        if lexeme.is_stop == False:\n",
    "            filtered_sentence.append(token) \n",
    "    return  filtered_sentence "
   ]
  },
  {
   "cell_type": "code",
   "execution_count": null,
   "id": "1edevfbtK3A_",
   "metadata": {
    "id": "1edevfbtK3A_"
   },
   "outputs": [],
   "source": [
    "def leave_meaningful(s):\n",
    "    meaningful = []\n",
    "\n",
    "    for token in s:\n",
    "        if token.pos_ in [\"NOUN\", \"VERB\"]:\n",
    "            meaningful.append(token.lemma_)\n",
    "\n",
    "    meaningful = np.unique(np.array(meaningful))\n",
    "    return meaningful"
   ]
  },
  {
   "cell_type": "code",
   "execution_count": null,
   "id": "A5vh7PjyK7ZT",
   "metadata": {
    "id": "A5vh7PjyK7ZT"
   },
   "outputs": [],
   "source": [
    "comments_doctor.comment = comments_doctor.comment.apply(spacy_tokinize)"
   ]
  },
  {
   "cell_type": "code",
   "execution_count": null,
   "id": "-TAtx-52LEqu",
   "metadata": {
    "id": "-TAtx-52LEqu"
   },
   "outputs": [],
   "source": [
    "comments_doctor.comment = comments_doctor.comment.apply(leave_meaningful)"
   ]
  },
  {
   "cell_type": "code",
   "execution_count": null,
   "id": "latin-seating",
   "metadata": {
    "id": "latin-seating"
   },
   "outputs": [],
   "source": [
    "import nltk\n",
    "from nltk.tokenize import word_tokenize\n",
    "#nltk.download('stopwords')\n",
    "#nltk.download('averaged_perceptron_tagger')\n",
    "from nltk.corpus import stopwords\n",
    "from string import punctuation\n",
    "punctuation += '—'"
   ]
  },
  {
   "cell_type": "code",
   "execution_count": null,
   "id": "damaged-chorus",
   "metadata": {
    "colab": {
     "base_uri": "https://localhost:8080/",
     "height": 1000
    },
    "executionInfo": {
     "elapsed": 1234,
     "status": "error",
     "timestamp": 1616300917722,
     "user": {
      "displayName": "Alona Sychevska",
      "photoUrl": "https://lh3.googleusercontent.com/a-/AOh14GgZ0malPWqMlhvFcClcWBFiVxOfUoQ8L_bgF_hbkg=s64",
      "userId": "11058447506513815192"
     },
     "user_tz": 0
    },
    "id": "damaged-chorus",
    "outputId": "cd55dae9-df54-4c75-8786-4a5f89c57e46"
   },
   "outputs": [
    {
     "ename": "LookupError",
     "evalue": "ignored",
     "output_type": "error",
     "traceback": [
      "\u001b[0;31m---------------------------------------------------------------------------\u001b[0m",
      "\u001b[0;31mLookupError\u001b[0m                               Traceback (most recent call last)",
      "\u001b[0;32m/usr/local/lib/python3.7/dist-packages/nltk/corpus/util.py\u001b[0m in \u001b[0;36m__load\u001b[0;34m(self)\u001b[0m\n\u001b[1;32m     79\u001b[0m             \u001b[0;32mexcept\u001b[0m \u001b[0mLookupError\u001b[0m \u001b[0;32mas\u001b[0m \u001b[0me\u001b[0m\u001b[0;34m:\u001b[0m\u001b[0;34m\u001b[0m\u001b[0;34m\u001b[0m\u001b[0m\n\u001b[0;32m---> 80\u001b[0;31m                 \u001b[0;32mtry\u001b[0m\u001b[0;34m:\u001b[0m \u001b[0mroot\u001b[0m \u001b[0;34m=\u001b[0m \u001b[0mnltk\u001b[0m\u001b[0;34m.\u001b[0m\u001b[0mdata\u001b[0m\u001b[0;34m.\u001b[0m\u001b[0mfind\u001b[0m\u001b[0;34m(\u001b[0m\u001b[0;34m'{}/{}'\u001b[0m\u001b[0;34m.\u001b[0m\u001b[0mformat\u001b[0m\u001b[0;34m(\u001b[0m\u001b[0mself\u001b[0m\u001b[0;34m.\u001b[0m\u001b[0msubdir\u001b[0m\u001b[0;34m,\u001b[0m \u001b[0mzip_name\u001b[0m\u001b[0;34m)\u001b[0m\u001b[0;34m)\u001b[0m\u001b[0;34m\u001b[0m\u001b[0;34m\u001b[0m\u001b[0m\n\u001b[0m\u001b[1;32m     81\u001b[0m                 \u001b[0;32mexcept\u001b[0m \u001b[0mLookupError\u001b[0m\u001b[0;34m:\u001b[0m \u001b[0;32mraise\u001b[0m \u001b[0me\u001b[0m\u001b[0;34m\u001b[0m\u001b[0;34m\u001b[0m\u001b[0m\n",
      "\u001b[0;32m/usr/local/lib/python3.7/dist-packages/nltk/data.py\u001b[0m in \u001b[0;36mfind\u001b[0;34m(resource_name, paths)\u001b[0m\n\u001b[1;32m    672\u001b[0m     \u001b[0mresource_not_found\u001b[0m \u001b[0;34m=\u001b[0m \u001b[0;34m'\\n%s\\n%s\\n%s\\n'\u001b[0m \u001b[0;34m%\u001b[0m \u001b[0;34m(\u001b[0m\u001b[0msep\u001b[0m\u001b[0;34m,\u001b[0m \u001b[0mmsg\u001b[0m\u001b[0;34m,\u001b[0m \u001b[0msep\u001b[0m\u001b[0;34m)\u001b[0m\u001b[0;34m\u001b[0m\u001b[0;34m\u001b[0m\u001b[0m\n\u001b[0;32m--> 673\u001b[0;31m     \u001b[0;32mraise\u001b[0m \u001b[0mLookupError\u001b[0m\u001b[0;34m(\u001b[0m\u001b[0mresource_not_found\u001b[0m\u001b[0;34m)\u001b[0m\u001b[0;34m\u001b[0m\u001b[0;34m\u001b[0m\u001b[0m\n\u001b[0m\u001b[1;32m    674\u001b[0m \u001b[0;34m\u001b[0m\u001b[0m\n",
      "\u001b[0;31mLookupError\u001b[0m: \n**********************************************************************\n  Resource \u001b[93mstopwords\u001b[0m not found.\n  Please use the NLTK Downloader to obtain the resource:\n\n  \u001b[31m>>> import nltk\n  >>> nltk.download('stopwords')\n  \u001b[0m\n  Searched in:\n    - '/root/nltk_data'\n    - '/usr/share/nltk_data'\n    - '/usr/local/share/nltk_data'\n    - '/usr/lib/nltk_data'\n    - '/usr/local/lib/nltk_data'\n    - '/usr/nltk_data'\n    - '/usr/lib/nltk_data'\n**********************************************************************\n",
      "\nDuring handling of the above exception, another exception occurred:\n",
      "\u001b[0;31mLookupError\u001b[0m                               Traceback (most recent call last)",
      "\u001b[0;32m<ipython-input-54-2a1bc618258a>\u001b[0m in \u001b[0;36m<module>\u001b[0;34m()\u001b[0m\n\u001b[0;32m----> 1\u001b[0;31m \u001b[0mstop\u001b[0m \u001b[0;34m=\u001b[0m \u001b[0mset\u001b[0m\u001b[0;34m(\u001b[0m\u001b[0mstopwords\u001b[0m\u001b[0;34m.\u001b[0m\u001b[0mwords\u001b[0m\u001b[0;34m(\u001b[0m\u001b[0;34m'russian'\u001b[0m\u001b[0;34m)\u001b[0m\u001b[0;34m)\u001b[0m\u001b[0;34m\u001b[0m\u001b[0;34m\u001b[0m\u001b[0m\n\u001b[0m\u001b[1;32m      2\u001b[0m \u001b[0mpunct\u001b[0m \u001b[0;34m=\u001b[0m \u001b[0mlist\u001b[0m\u001b[0;34m(\u001b[0m\u001b[0mpunctuation\u001b[0m\u001b[0;34m)\u001b[0m\u001b[0;34m\u001b[0m\u001b[0;34m\u001b[0m\u001b[0m\n",
      "\u001b[0;32m/usr/local/lib/python3.7/dist-packages/nltk/corpus/util.py\u001b[0m in \u001b[0;36m__getattr__\u001b[0;34m(self, attr)\u001b[0m\n\u001b[1;32m    114\u001b[0m             \u001b[0;32mraise\u001b[0m \u001b[0mAttributeError\u001b[0m\u001b[0;34m(\u001b[0m\u001b[0;34m\"LazyCorpusLoader object has no attribute '__bases__'\"\u001b[0m\u001b[0;34m)\u001b[0m\u001b[0;34m\u001b[0m\u001b[0;34m\u001b[0m\u001b[0m\n\u001b[1;32m    115\u001b[0m \u001b[0;34m\u001b[0m\u001b[0m\n\u001b[0;32m--> 116\u001b[0;31m         \u001b[0mself\u001b[0m\u001b[0;34m.\u001b[0m\u001b[0m__load\u001b[0m\u001b[0;34m(\u001b[0m\u001b[0;34m)\u001b[0m\u001b[0;34m\u001b[0m\u001b[0;34m\u001b[0m\u001b[0m\n\u001b[0m\u001b[1;32m    117\u001b[0m         \u001b[0;31m# This looks circular, but its not, since __load() changes our\u001b[0m\u001b[0;34m\u001b[0m\u001b[0;34m\u001b[0m\u001b[0;34m\u001b[0m\u001b[0m\n\u001b[1;32m    118\u001b[0m         \u001b[0;31m# __class__ to something new:\u001b[0m\u001b[0;34m\u001b[0m\u001b[0;34m\u001b[0m\u001b[0;34m\u001b[0m\u001b[0m\n",
      "\u001b[0;32m/usr/local/lib/python3.7/dist-packages/nltk/corpus/util.py\u001b[0m in \u001b[0;36m__load\u001b[0;34m(self)\u001b[0m\n\u001b[1;32m     79\u001b[0m             \u001b[0;32mexcept\u001b[0m \u001b[0mLookupError\u001b[0m \u001b[0;32mas\u001b[0m \u001b[0me\u001b[0m\u001b[0;34m:\u001b[0m\u001b[0;34m\u001b[0m\u001b[0;34m\u001b[0m\u001b[0m\n\u001b[1;32m     80\u001b[0m                 \u001b[0;32mtry\u001b[0m\u001b[0;34m:\u001b[0m \u001b[0mroot\u001b[0m \u001b[0;34m=\u001b[0m \u001b[0mnltk\u001b[0m\u001b[0;34m.\u001b[0m\u001b[0mdata\u001b[0m\u001b[0;34m.\u001b[0m\u001b[0mfind\u001b[0m\u001b[0;34m(\u001b[0m\u001b[0;34m'{}/{}'\u001b[0m\u001b[0;34m.\u001b[0m\u001b[0mformat\u001b[0m\u001b[0;34m(\u001b[0m\u001b[0mself\u001b[0m\u001b[0;34m.\u001b[0m\u001b[0msubdir\u001b[0m\u001b[0;34m,\u001b[0m \u001b[0mzip_name\u001b[0m\u001b[0;34m)\u001b[0m\u001b[0;34m)\u001b[0m\u001b[0;34m\u001b[0m\u001b[0;34m\u001b[0m\u001b[0m\n\u001b[0;32m---> 81\u001b[0;31m                 \u001b[0;32mexcept\u001b[0m \u001b[0mLookupError\u001b[0m\u001b[0;34m:\u001b[0m \u001b[0;32mraise\u001b[0m \u001b[0me\u001b[0m\u001b[0;34m\u001b[0m\u001b[0;34m\u001b[0m\u001b[0m\n\u001b[0m\u001b[1;32m     82\u001b[0m \u001b[0;34m\u001b[0m\u001b[0m\n\u001b[1;32m     83\u001b[0m         \u001b[0;31m# Load the corpus.\u001b[0m\u001b[0;34m\u001b[0m\u001b[0;34m\u001b[0m\u001b[0;34m\u001b[0m\u001b[0m\n",
      "\u001b[0;32m/usr/local/lib/python3.7/dist-packages/nltk/corpus/util.py\u001b[0m in \u001b[0;36m__load\u001b[0;34m(self)\u001b[0m\n\u001b[1;32m     76\u001b[0m         \u001b[0;32melse\u001b[0m\u001b[0;34m:\u001b[0m\u001b[0;34m\u001b[0m\u001b[0;34m\u001b[0m\u001b[0m\n\u001b[1;32m     77\u001b[0m             \u001b[0;32mtry\u001b[0m\u001b[0;34m:\u001b[0m\u001b[0;34m\u001b[0m\u001b[0;34m\u001b[0m\u001b[0m\n\u001b[0;32m---> 78\u001b[0;31m                 \u001b[0mroot\u001b[0m \u001b[0;34m=\u001b[0m \u001b[0mnltk\u001b[0m\u001b[0;34m.\u001b[0m\u001b[0mdata\u001b[0m\u001b[0;34m.\u001b[0m\u001b[0mfind\u001b[0m\u001b[0;34m(\u001b[0m\u001b[0;34m'{}/{}'\u001b[0m\u001b[0;34m.\u001b[0m\u001b[0mformat\u001b[0m\u001b[0;34m(\u001b[0m\u001b[0mself\u001b[0m\u001b[0;34m.\u001b[0m\u001b[0msubdir\u001b[0m\u001b[0;34m,\u001b[0m \u001b[0mself\u001b[0m\u001b[0;34m.\u001b[0m\u001b[0m__name\u001b[0m\u001b[0;34m)\u001b[0m\u001b[0;34m)\u001b[0m\u001b[0;34m\u001b[0m\u001b[0;34m\u001b[0m\u001b[0m\n\u001b[0m\u001b[1;32m     79\u001b[0m             \u001b[0;32mexcept\u001b[0m \u001b[0mLookupError\u001b[0m \u001b[0;32mas\u001b[0m \u001b[0me\u001b[0m\u001b[0;34m:\u001b[0m\u001b[0;34m\u001b[0m\u001b[0;34m\u001b[0m\u001b[0m\n\u001b[1;32m     80\u001b[0m                 \u001b[0;32mtry\u001b[0m\u001b[0;34m:\u001b[0m \u001b[0mroot\u001b[0m \u001b[0;34m=\u001b[0m \u001b[0mnltk\u001b[0m\u001b[0;34m.\u001b[0m\u001b[0mdata\u001b[0m\u001b[0;34m.\u001b[0m\u001b[0mfind\u001b[0m\u001b[0;34m(\u001b[0m\u001b[0;34m'{}/{}'\u001b[0m\u001b[0;34m.\u001b[0m\u001b[0mformat\u001b[0m\u001b[0;34m(\u001b[0m\u001b[0mself\u001b[0m\u001b[0;34m.\u001b[0m\u001b[0msubdir\u001b[0m\u001b[0;34m,\u001b[0m \u001b[0mzip_name\u001b[0m\u001b[0;34m)\u001b[0m\u001b[0;34m)\u001b[0m\u001b[0;34m\u001b[0m\u001b[0;34m\u001b[0m\u001b[0m\n",
      "\u001b[0;32m/usr/local/lib/python3.7/dist-packages/nltk/data.py\u001b[0m in \u001b[0;36mfind\u001b[0;34m(resource_name, paths)\u001b[0m\n\u001b[1;32m    671\u001b[0m     \u001b[0msep\u001b[0m \u001b[0;34m=\u001b[0m \u001b[0;34m'*'\u001b[0m \u001b[0;34m*\u001b[0m \u001b[0;36m70\u001b[0m\u001b[0;34m\u001b[0m\u001b[0;34m\u001b[0m\u001b[0m\n\u001b[1;32m    672\u001b[0m     \u001b[0mresource_not_found\u001b[0m \u001b[0;34m=\u001b[0m \u001b[0;34m'\\n%s\\n%s\\n%s\\n'\u001b[0m \u001b[0;34m%\u001b[0m \u001b[0;34m(\u001b[0m\u001b[0msep\u001b[0m\u001b[0;34m,\u001b[0m \u001b[0mmsg\u001b[0m\u001b[0;34m,\u001b[0m \u001b[0msep\u001b[0m\u001b[0;34m)\u001b[0m\u001b[0;34m\u001b[0m\u001b[0;34m\u001b[0m\u001b[0m\n\u001b[0;32m--> 673\u001b[0;31m     \u001b[0;32mraise\u001b[0m \u001b[0mLookupError\u001b[0m\u001b[0;34m(\u001b[0m\u001b[0mresource_not_found\u001b[0m\u001b[0;34m)\u001b[0m\u001b[0;34m\u001b[0m\u001b[0;34m\u001b[0m\u001b[0m\n\u001b[0m\u001b[1;32m    674\u001b[0m \u001b[0;34m\u001b[0m\u001b[0m\n\u001b[1;32m    675\u001b[0m \u001b[0;34m\u001b[0m\u001b[0m\n",
      "\u001b[0;31mLookupError\u001b[0m: \n**********************************************************************\n  Resource \u001b[93mstopwords\u001b[0m not found.\n  Please use the NLTK Downloader to obtain the resource:\n\n  \u001b[31m>>> import nltk\n  >>> nltk.download('stopwords')\n  \u001b[0m\n  Searched in:\n    - '/root/nltk_data'\n    - '/usr/share/nltk_data'\n    - '/usr/local/share/nltk_data'\n    - '/usr/lib/nltk_data'\n    - '/usr/local/lib/nltk_data'\n    - '/usr/nltk_data'\n    - '/usr/lib/nltk_data'\n**********************************************************************\n"
     ]
    }
   ],
   "source": [
    "stop = set(stopwords.words('russian'))\n",
    "punct = list(punctuation)"
   ]
  },
  {
   "cell_type": "code",
   "execution_count": null,
   "id": "valid-dividend",
   "metadata": {
    "id": "valid-dividend",
    "outputId": "dad1c259-46a6-40a9-c6e5-4f5e74b672ba"
   },
   "outputs": [
    {
     "ename": "ModuleNotFoundError",
     "evalue": "No module named 'sentencepiece'",
     "output_type": "error",
     "traceback": [
      "\u001b[0;31m---------------------------------------------------------------------------\u001b[0m",
      "\u001b[0;31mModuleNotFoundError\u001b[0m                       Traceback (most recent call last)",
      "\u001b[0;32m<ipython-input-58-6c3086bf432e>\u001b[0m in \u001b[0;36m<module>\u001b[0;34m\u001b[0m\n\u001b[1;32m     10\u001b[0m \u001b[0;32mimport\u001b[0m \u001b[0mstring\u001b[0m\u001b[0;34m\u001b[0m\u001b[0;34m\u001b[0m\u001b[0m\n\u001b[1;32m     11\u001b[0m \u001b[0;34m\u001b[0m\u001b[0m\n\u001b[0;32m---> 12\u001b[0;31m \u001b[0;32mimport\u001b[0m \u001b[0msentencepiece\u001b[0m \u001b[0;32mas\u001b[0m \u001b[0mspm\u001b[0m\u001b[0;34m\u001b[0m\u001b[0;34m\u001b[0m\u001b[0m\n\u001b[0m\u001b[1;32m     13\u001b[0m \u001b[0;34m\u001b[0m\u001b[0m\n\u001b[1;32m     14\u001b[0m \u001b[0;32mclass\u001b[0m \u001b[0mPreprocessor\u001b[0m\u001b[0;34m(\u001b[0m\u001b[0;34m)\u001b[0m\u001b[0;34m:\u001b[0m\u001b[0;34m\u001b[0m\u001b[0;34m\u001b[0m\u001b[0m\n",
      "\u001b[0;31mModuleNotFoundError\u001b[0m: No module named 'sentencepiece'"
     ]
    }
   ],
   "source": [
    "import sys\n",
    "import re\n",
    "import os\n",
    "\n",
    "import nltk\n",
    "from nltk import word_tokenize\n",
    "from nltk.corpus import stopwords\n",
    "#nltk.download('stopwords')\n",
    "#nltk.download('punkt')\n",
    "import string\n",
    "\n",
    "import sentencepiece as spm\n",
    "\n",
    "class Preprocessor():\n",
    "\n",
    "    def __init__(self, language = 'russian'):\n",
    "        self.language = language\n",
    "        if instream:\n",
    "            self.corpus_orig = self.read_string(instream)\n",
    "        else:\n",
    "            self.corpus_orig = self.read_articles(sys.stdin)\n",
    "        self.corpus = self.preprocess(self.corpus_orig)\n",
    "\n",
    "    def preprocess(self, corpus_list):\n",
    "        preproc_corpus_list = []\n",
    "        stopset = stopwords.words(self.language) + list(string.punctuation)\n",
    "        for corpus in corpus_list:\n",
    "            corpus = corpus.lower()\n",
    "            corpus = \" \".join([ i for i in word_tokenize(corpus) if i not in stopset])\n",
    "            preproc_corpus_list.append(corpus)\n",
    "        return preproc_corpus_list\n",
    "\n",
    "    def preprocess_sp(self, corpus_list):\n",
    "        return self.sentencepiece_apply(self.preprocess(corpus_list))\n",
    "\n",
    "    def sentencepiece_train(self, corpus_list, vocab_size = 24000):\n",
    "        fp_out = open(\"./sp_corpus.txt\", 'w')\n",
    "        for corpus in corpus_list:\n",
    "            print(corpus, file=fp_out)\n",
    "        fp_out.close()\n",
    "        spm.SentencePieceTrainer.Train(f\"--input=sp_corpus.txt --model_prefix=sp_model --vocab_size={vocab_size} --max_sentence_length=1000 --character_coverage=1.0 --num_threads=4 --hard_vocab_limit=false\")\n",
    "        return None\n",
    "\n",
    "    def sentencepiece_apply(self, corpus_list):\n",
    "        sent_corpus_list = []\n",
    "        sp = spm.SentencePieceProcessor()\n",
    "        sp.Load(\"./sp_model.model\")\n",
    "        for corpus in corpus_list:\n",
    "            sent_corpus_list.append(\" \".join(sp.EncodeAsPieces(corpus)))\n",
    "        return sent_corpus_list\n",
    "\n",
    "    def read_articles(self, fp):\n",
    "        articles = []\n",
    "        for line in fp:\n",
    "            if line.strip() != \"\":\n",
    "                articles.append(line.strip())\n",
    "        return articles\n",
    "\n",
    "    def read_string(self, mystring):\n",
    "        articles = [mystring]\n",
    "        return articles\n",
    "\n",
    "\n",
    "def main():\n",
    "    vocab_size = 24000\n",
    "    if len(sys.argv) > 1:\n",
    "        vocab_size = sys.argv[1]\n",
    "    print(\"Create Preprocessor\")\n",
    "    preprocessor = Preprocessor(language = 'english')\n",
    "    print(\"Train spm\")\n",
    "    preprocessor.sentencepiece_train(preprocessor.corpus, vocab_size = vocab_size)\n",
    "\n",
    "if __name__ == \"__main__\":\n",
    "    main()"
   ]
  },
  {
   "cell_type": "code",
   "execution_count": null,
   "id": "laden-desktop",
   "metadata": {
    "id": "laden-desktop",
    "outputId": "b4fa227a-95ac-4f65-f249-9642da4c20cd"
   },
   "outputs": [
    {
     "ename": "LookupError",
     "evalue": "\n**********************************************************************\n  Resource \u001b[93mstopwords\u001b[0m not found.\n  Please use the NLTK Downloader to obtain the resource:\n\n  \u001b[31m>>> import nltk\n  >>> nltk.download('stopwords')\n  \u001b[0m\n  For more information see: https://www.nltk.org/data.html\n\n  Attempted to load \u001b[93mcorpora/stopwords\u001b[0m\n\n  Searched in:\n    - '/home/qgelena/nltk_data'\n    - '/usr/nltk_data'\n    - '/usr/share/nltk_data'\n    - '/usr/lib/nltk_data'\n    - '/usr/share/nltk_data'\n    - '/usr/local/share/nltk_data'\n    - '/usr/lib/nltk_data'\n    - '/usr/local/lib/nltk_data'\n**********************************************************************\n",
     "output_type": "error",
     "traceback": [
      "\u001b[0;31m---------------------------------------------------------------------------\u001b[0m",
      "\u001b[0;31mLookupError\u001b[0m                               Traceback (most recent call last)",
      "\u001b[0;32m~/.local/lib/python3.6/site-packages/nltk/corpus/util.py\u001b[0m in \u001b[0;36m__load\u001b[0;34m(self)\u001b[0m\n\u001b[1;32m     82\u001b[0m                 \u001b[0;32mtry\u001b[0m\u001b[0;34m:\u001b[0m\u001b[0;34m\u001b[0m\u001b[0;34m\u001b[0m\u001b[0m\n\u001b[0;32m---> 83\u001b[0;31m                     \u001b[0mroot\u001b[0m \u001b[0;34m=\u001b[0m \u001b[0mnltk\u001b[0m\u001b[0;34m.\u001b[0m\u001b[0mdata\u001b[0m\u001b[0;34m.\u001b[0m\u001b[0mfind\u001b[0m\u001b[0;34m(\u001b[0m\u001b[0;34m\"{}/{}\"\u001b[0m\u001b[0;34m.\u001b[0m\u001b[0mformat\u001b[0m\u001b[0;34m(\u001b[0m\u001b[0mself\u001b[0m\u001b[0;34m.\u001b[0m\u001b[0msubdir\u001b[0m\u001b[0;34m,\u001b[0m \u001b[0mzip_name\u001b[0m\u001b[0;34m)\u001b[0m\u001b[0;34m)\u001b[0m\u001b[0;34m\u001b[0m\u001b[0;34m\u001b[0m\u001b[0m\n\u001b[0m\u001b[1;32m     84\u001b[0m                 \u001b[0;32mexcept\u001b[0m \u001b[0mLookupError\u001b[0m\u001b[0;34m:\u001b[0m\u001b[0;34m\u001b[0m\u001b[0;34m\u001b[0m\u001b[0m\n",
      "\u001b[0;32m~/.local/lib/python3.6/site-packages/nltk/data.py\u001b[0m in \u001b[0;36mfind\u001b[0;34m(resource_name, paths)\u001b[0m\n\u001b[1;32m    584\u001b[0m     \u001b[0mresource_not_found\u001b[0m \u001b[0;34m=\u001b[0m \u001b[0;34m\"\\n%s\\n%s\\n%s\\n\"\u001b[0m \u001b[0;34m%\u001b[0m \u001b[0;34m(\u001b[0m\u001b[0msep\u001b[0m\u001b[0;34m,\u001b[0m \u001b[0mmsg\u001b[0m\u001b[0;34m,\u001b[0m \u001b[0msep\u001b[0m\u001b[0;34m)\u001b[0m\u001b[0;34m\u001b[0m\u001b[0;34m\u001b[0m\u001b[0m\n\u001b[0;32m--> 585\u001b[0;31m     \u001b[0;32mraise\u001b[0m \u001b[0mLookupError\u001b[0m\u001b[0;34m(\u001b[0m\u001b[0mresource_not_found\u001b[0m\u001b[0;34m)\u001b[0m\u001b[0;34m\u001b[0m\u001b[0;34m\u001b[0m\u001b[0m\n\u001b[0m\u001b[1;32m    586\u001b[0m \u001b[0;34m\u001b[0m\u001b[0m\n",
      "\u001b[0;31mLookupError\u001b[0m: \n**********************************************************************\n  Resource \u001b[93mstopwords\u001b[0m not found.\n  Please use the NLTK Downloader to obtain the resource:\n\n  \u001b[31m>>> import nltk\n  >>> nltk.download('stopwords')\n  \u001b[0m\n  For more information see: https://www.nltk.org/data.html\n\n  Attempted to load \u001b[93mcorpora/stopwords.zip/stopwords/\u001b[0m\n\n  Searched in:\n    - '/home/qgelena/nltk_data'\n    - '/usr/nltk_data'\n    - '/usr/share/nltk_data'\n    - '/usr/lib/nltk_data'\n    - '/usr/share/nltk_data'\n    - '/usr/local/share/nltk_data'\n    - '/usr/lib/nltk_data'\n    - '/usr/local/lib/nltk_data'\n**********************************************************************\n",
      "\nDuring handling of the above exception, another exception occurred:\n",
      "\u001b[0;31mLookupError\u001b[0m                               Traceback (most recent call last)",
      "\u001b[0;32m<ipython-input-59-60e95411dc9f>\u001b[0m in \u001b[0;36m<module>\u001b[0;34m\u001b[0m\n\u001b[0;32m----> 1\u001b[0;31m \u001b[0mstopset\u001b[0m \u001b[0;34m=\u001b[0m \u001b[0mstopwords\u001b[0m\u001b[0;34m.\u001b[0m\u001b[0mwords\u001b[0m\u001b[0;34m(\u001b[0m\u001b[0mse\u001b[0m\u001b[0;34m)\u001b[0m \u001b[0;34m+\u001b[0m \u001b[0mlist\u001b[0m\u001b[0;34m(\u001b[0m\u001b[0mstring\u001b[0m\u001b[0;34m.\u001b[0m\u001b[0mpunctuation\u001b[0m\u001b[0;34m)\u001b[0m\u001b[0;34m\u001b[0m\u001b[0;34m\u001b[0m\u001b[0m\n\u001b[0m\u001b[1;32m      2\u001b[0m \u001b[0;32mdef\u001b[0m \u001b[0mpreprocess\u001b[0m\u001b[0;34m(\u001b[0m\u001b[0mtext\u001b[0m\u001b[0;34m)\u001b[0m\u001b[0;34m:\u001b[0m\u001b[0;34m\u001b[0m\u001b[0;34m\u001b[0m\u001b[0m\n\u001b[1;32m      3\u001b[0m     \u001b[0mlst\u001b[0m \u001b[0;34m=\u001b[0m \u001b[0mword_tokenize\u001b[0m\u001b[0;34m(\u001b[0m\u001b[0mtext\u001b[0m\u001b[0;34m)\u001b[0m\u001b[0;34m\u001b[0m\u001b[0;34m\u001b[0m\u001b[0m\n\u001b[1;32m      4\u001b[0m     \u001b[0mlst\u001b[0m \u001b[0;34m=\u001b[0m \u001b[0;34m[\u001b[0m\u001b[0mword\u001b[0m \u001b[0;32mfor\u001b[0m \u001b[0mword\u001b[0m \u001b[0;32min\u001b[0m \u001b[0mlst\u001b[0m \u001b[0;32mif\u001b[0m \u001b[0mword\u001b[0m \u001b[0;32mnot\u001b[0m \u001b[0;32min\u001b[0m \u001b[0mstop\u001b[0m \u001b[0;32mand\u001b[0m \u001b[0mword\u001b[0m \u001b[0;32mnot\u001b[0m \u001b[0;32min\u001b[0m \u001b[0mpunct\u001b[0m\u001b[0;34m]\u001b[0m\u001b[0;34m\u001b[0m\u001b[0;34m\u001b[0m\u001b[0m\n\u001b[1;32m      5\u001b[0m     \u001b[0;32mreturn\u001b[0m \u001b[0mlst\u001b[0m\u001b[0;34m\u001b[0m\u001b[0;34m\u001b[0m\u001b[0m\n",
      "\u001b[0;32m~/.local/lib/python3.6/site-packages/nltk/corpus/util.py\u001b[0m in \u001b[0;36m__getattr__\u001b[0;34m(self, attr)\u001b[0m\n\u001b[1;32m    118\u001b[0m             \u001b[0;32mraise\u001b[0m \u001b[0mAttributeError\u001b[0m\u001b[0;34m(\u001b[0m\u001b[0;34m\"LazyCorpusLoader object has no attribute '__bases__'\"\u001b[0m\u001b[0;34m)\u001b[0m\u001b[0;34m\u001b[0m\u001b[0;34m\u001b[0m\u001b[0m\n\u001b[1;32m    119\u001b[0m \u001b[0;34m\u001b[0m\u001b[0m\n\u001b[0;32m--> 120\u001b[0;31m         \u001b[0mself\u001b[0m\u001b[0;34m.\u001b[0m\u001b[0m__load\u001b[0m\u001b[0;34m(\u001b[0m\u001b[0;34m)\u001b[0m\u001b[0;34m\u001b[0m\u001b[0;34m\u001b[0m\u001b[0m\n\u001b[0m\u001b[1;32m    121\u001b[0m         \u001b[0;31m# This looks circular, but its not, since __load() changes our\u001b[0m\u001b[0;34m\u001b[0m\u001b[0;34m\u001b[0m\u001b[0;34m\u001b[0m\u001b[0m\n\u001b[1;32m    122\u001b[0m         \u001b[0;31m# __class__ to something new:\u001b[0m\u001b[0;34m\u001b[0m\u001b[0;34m\u001b[0m\u001b[0;34m\u001b[0m\u001b[0m\n",
      "\u001b[0;32m~/.local/lib/python3.6/site-packages/nltk/corpus/util.py\u001b[0m in \u001b[0;36m__load\u001b[0;34m(self)\u001b[0m\n\u001b[1;32m     83\u001b[0m                     \u001b[0mroot\u001b[0m \u001b[0;34m=\u001b[0m \u001b[0mnltk\u001b[0m\u001b[0;34m.\u001b[0m\u001b[0mdata\u001b[0m\u001b[0;34m.\u001b[0m\u001b[0mfind\u001b[0m\u001b[0;34m(\u001b[0m\u001b[0;34m\"{}/{}\"\u001b[0m\u001b[0;34m.\u001b[0m\u001b[0mformat\u001b[0m\u001b[0;34m(\u001b[0m\u001b[0mself\u001b[0m\u001b[0;34m.\u001b[0m\u001b[0msubdir\u001b[0m\u001b[0;34m,\u001b[0m \u001b[0mzip_name\u001b[0m\u001b[0;34m)\u001b[0m\u001b[0;34m)\u001b[0m\u001b[0;34m\u001b[0m\u001b[0;34m\u001b[0m\u001b[0m\n\u001b[1;32m     84\u001b[0m                 \u001b[0;32mexcept\u001b[0m \u001b[0mLookupError\u001b[0m\u001b[0;34m:\u001b[0m\u001b[0;34m\u001b[0m\u001b[0;34m\u001b[0m\u001b[0m\n\u001b[0;32m---> 85\u001b[0;31m                     \u001b[0;32mraise\u001b[0m \u001b[0me\u001b[0m\u001b[0;34m\u001b[0m\u001b[0;34m\u001b[0m\u001b[0m\n\u001b[0m\u001b[1;32m     86\u001b[0m \u001b[0;34m\u001b[0m\u001b[0m\n\u001b[1;32m     87\u001b[0m         \u001b[0;31m# Load the corpus.\u001b[0m\u001b[0;34m\u001b[0m\u001b[0;34m\u001b[0m\u001b[0;34m\u001b[0m\u001b[0m\n",
      "\u001b[0;32m~/.local/lib/python3.6/site-packages/nltk/corpus/util.py\u001b[0m in \u001b[0;36m__load\u001b[0;34m(self)\u001b[0m\n\u001b[1;32m     78\u001b[0m         \u001b[0;32melse\u001b[0m\u001b[0;34m:\u001b[0m\u001b[0;34m\u001b[0m\u001b[0;34m\u001b[0m\u001b[0m\n\u001b[1;32m     79\u001b[0m             \u001b[0;32mtry\u001b[0m\u001b[0;34m:\u001b[0m\u001b[0;34m\u001b[0m\u001b[0;34m\u001b[0m\u001b[0m\n\u001b[0;32m---> 80\u001b[0;31m                 \u001b[0mroot\u001b[0m \u001b[0;34m=\u001b[0m \u001b[0mnltk\u001b[0m\u001b[0;34m.\u001b[0m\u001b[0mdata\u001b[0m\u001b[0;34m.\u001b[0m\u001b[0mfind\u001b[0m\u001b[0;34m(\u001b[0m\u001b[0;34m\"{}/{}\"\u001b[0m\u001b[0;34m.\u001b[0m\u001b[0mformat\u001b[0m\u001b[0;34m(\u001b[0m\u001b[0mself\u001b[0m\u001b[0;34m.\u001b[0m\u001b[0msubdir\u001b[0m\u001b[0;34m,\u001b[0m \u001b[0mself\u001b[0m\u001b[0;34m.\u001b[0m\u001b[0m__name\u001b[0m\u001b[0;34m)\u001b[0m\u001b[0;34m)\u001b[0m\u001b[0;34m\u001b[0m\u001b[0;34m\u001b[0m\u001b[0m\n\u001b[0m\u001b[1;32m     81\u001b[0m             \u001b[0;32mexcept\u001b[0m \u001b[0mLookupError\u001b[0m \u001b[0;32mas\u001b[0m \u001b[0me\u001b[0m\u001b[0;34m:\u001b[0m\u001b[0;34m\u001b[0m\u001b[0;34m\u001b[0m\u001b[0m\n\u001b[1;32m     82\u001b[0m                 \u001b[0;32mtry\u001b[0m\u001b[0;34m:\u001b[0m\u001b[0;34m\u001b[0m\u001b[0;34m\u001b[0m\u001b[0m\n",
      "\u001b[0;32m~/.local/lib/python3.6/site-packages/nltk/data.py\u001b[0m in \u001b[0;36mfind\u001b[0;34m(resource_name, paths)\u001b[0m\n\u001b[1;32m    583\u001b[0m     \u001b[0msep\u001b[0m \u001b[0;34m=\u001b[0m \u001b[0;34m\"*\"\u001b[0m \u001b[0;34m*\u001b[0m \u001b[0;36m70\u001b[0m\u001b[0;34m\u001b[0m\u001b[0;34m\u001b[0m\u001b[0m\n\u001b[1;32m    584\u001b[0m     \u001b[0mresource_not_found\u001b[0m \u001b[0;34m=\u001b[0m \u001b[0;34m\"\\n%s\\n%s\\n%s\\n\"\u001b[0m \u001b[0;34m%\u001b[0m \u001b[0;34m(\u001b[0m\u001b[0msep\u001b[0m\u001b[0;34m,\u001b[0m \u001b[0mmsg\u001b[0m\u001b[0;34m,\u001b[0m \u001b[0msep\u001b[0m\u001b[0;34m)\u001b[0m\u001b[0;34m\u001b[0m\u001b[0;34m\u001b[0m\u001b[0m\n\u001b[0;32m--> 585\u001b[0;31m     \u001b[0;32mraise\u001b[0m \u001b[0mLookupError\u001b[0m\u001b[0;34m(\u001b[0m\u001b[0mresource_not_found\u001b[0m\u001b[0;34m)\u001b[0m\u001b[0;34m\u001b[0m\u001b[0;34m\u001b[0m\u001b[0m\n\u001b[0m\u001b[1;32m    586\u001b[0m \u001b[0;34m\u001b[0m\u001b[0m\n\u001b[1;32m    587\u001b[0m \u001b[0;34m\u001b[0m\u001b[0m\n",
      "\u001b[0;31mLookupError\u001b[0m: \n**********************************************************************\n  Resource \u001b[93mstopwords\u001b[0m not found.\n  Please use the NLTK Downloader to obtain the resource:\n\n  \u001b[31m>>> import nltk\n  >>> nltk.download('stopwords')\n  \u001b[0m\n  For more information see: https://www.nltk.org/data.html\n\n  Attempted to load \u001b[93mcorpora/stopwords\u001b[0m\n\n  Searched in:\n    - '/home/qgelena/nltk_data'\n    - '/usr/nltk_data'\n    - '/usr/share/nltk_data'\n    - '/usr/lib/nltk_data'\n    - '/usr/share/nltk_data'\n    - '/usr/local/share/nltk_data'\n    - '/usr/lib/nltk_data'\n    - '/usr/local/lib/nltk_data'\n**********************************************************************\n"
     ]
    }
   ],
   "source": [
    "stopset = stopwords.words(se) + list(string.punctuation)\n",
    "def preprocess(text):\n",
    "    lst = word_tokenize(text)\n",
    "    lst = [word for word in lst if word not in stop and word not in punct]\n",
    "    return lst"
   ]
  },
  {
   "cell_type": "code",
   "execution_count": null,
   "id": "built-precipitation",
   "metadata": {
    "id": "built-precipitation",
    "outputId": "938ad615-0dc2-4a50-ab1d-6e0f3aa68b75"
   },
   "outputs": [
    {
     "ename": "NameError",
     "evalue": "name 'hackathon_order' is not defined",
     "output_type": "error",
     "traceback": [
      "\u001b[0;31m---------------------------------------------------------------------------\u001b[0m",
      "\u001b[0;31mNameError\u001b[0m                                 Traceback (most recent call last)",
      "\u001b[0;32m<ipython-input-17-f363abdf9c22>\u001b[0m in \u001b[0;36m<module>\u001b[0;34m\u001b[0m\n\u001b[0;32m----> 1\u001b[0;31m \u001b[0mhackathon_order\u001b[0m\u001b[0;34m[\u001b[0m\u001b[0;34m'comment'\u001b[0m\u001b[0;34m]\u001b[0m\u001b[0;34m[\u001b[0m\u001b[0;36m8\u001b[0m\u001b[0;34m]\u001b[0m\u001b[0;34m\u001b[0m\u001b[0;34m\u001b[0m\u001b[0m\n\u001b[0m",
      "\u001b[0;31mNameError\u001b[0m: name 'hackathon_order' is not defined"
     ]
    }
   ],
   "source": [
    "hackathon_order['comment'][8]"
   ]
  },
  {
   "cell_type": "code",
   "execution_count": null,
   "id": "compressed-agenda",
   "metadata": {
    "id": "compressed-agenda",
    "outputId": "5d96c03f-acb5-4458-f228-ed6c79ad742a"
   },
   "outputs": [
    {
     "data": {
      "text/plain": [
       "(62098, 65)"
      ]
     },
     "execution_count": 60,
     "metadata": {
      "tags": []
     },
     "output_type": "execute_result"
    }
   ],
   "source": [
    "hackathon_order.shape"
   ]
  },
  {
   "cell_type": "code",
   "execution_count": null,
   "id": "muslim-mozambique",
   "metadata": {
    "id": "muslim-mozambique",
    "outputId": "b98ee069-ce40-44e5-838f-d21db0f5d112"
   },
   "outputs": [
    {
     "data": {
      "text/plain": [
       "adult                0\n",
       "gender               0\n",
       "date_create          0\n",
       "date_update          0\n",
       "comment              0\n",
       "                    ..\n",
       "quantity_marker      0\n",
       "another_person       0\n",
       "referral             0\n",
       "status_changed_at    0\n",
       "phone_hash           0\n",
       "Length: 65, dtype: int64"
      ]
     },
     "execution_count": 61,
     "metadata": {
      "tags": []
     },
     "output_type": "execute_result"
    }
   ],
   "source": [
    "hackathon_order.isnull().sum()"
   ]
  },
  {
   "cell_type": "code",
   "execution_count": null,
   "id": "monetary-adrian",
   "metadata": {
    "id": "monetary-adrian",
    "outputId": "d46a5c86-05a8-446a-bc5c-57ed8c38faeb"
   },
   "outputs": [
    {
     "name": "stdout",
     "output_type": "stream",
     "text": [
      "<class 'pandas.core.frame.DataFrame'>\n",
      "Int64Index: 62098 entries, 1 to 62098\n",
      "Data columns (total 65 columns):\n",
      " #   Column                       Non-Null Count  Dtype \n",
      "---  ------                       --------------  ----- \n",
      " 0   adult                        62098 non-null  object\n",
      " 1   gender                       62098 non-null  object\n",
      " 2   date_create                  62098 non-null  object\n",
      " 3   date_update                  62098 non-null  object\n",
      " 4   comment                      62098 non-null  object\n",
      " 5   deleted                      62098 non-null  object\n",
      " 6   address                      62098 non-null  object\n",
      " 7   operator                     62098 non-null  object\n",
      " 8   specialty_id                 62098 non-null  object\n",
      " 9   user_id                      62098 non-null  object\n",
      " 10  order_status_id              62098 non-null  object\n",
      " 11  doctor_id                    62098 non-null  object\n",
      " 12  affiliate_id                 62098 non-null  object\n",
      " 13  timetable_id                 62098 non-null  object\n",
      " 14  city_id                      62098 non-null  object\n",
      " 15  specialOffer_id              62098 non-null  object\n",
      " 16  referral_program_partner_id  62098 non-null  object\n",
      " 17  referral_program_commission  62098 non-null  object\n",
      " 18  mainStatus                   62098 non-null  object\n",
      " 19  status                       62098 non-null  object\n",
      " 20  timeStatus                   62098 non-null  object\n",
      " 21  cancelStatus                 62098 non-null  object\n",
      " 22  qtStatus                     62098 non-null  object\n",
      " 23  sms_send                     62098 non-null  object\n",
      " 24  desire_time                  62098 non-null  object\n",
      " 25  desire_time_alt              62098 non-null  object\n",
      " 26  to_home                      62098 non-null  object\n",
      " 27  is_read                      62098 non-null  object\n",
      " 28  type                         62098 non-null  object\n",
      " 29  source                       62098 non-null  object\n",
      " 30  updated                      62098 non-null  object\n",
      " 31  type_id                      62098 non-null  object\n",
      " 32  alarm                        62098 non-null  object\n",
      " 33  alarm_user                   62098 non-null  object\n",
      " 34  will_be_treated              62098 non-null  object\n",
      " 35  next_contact_time            62098 non-null  object\n",
      " 36  alternate                    62098 non-null  object\n",
      " 37  online_order                 62098 non-null  object\n",
      " 38  clinic_notified              62098 non-null  object\n",
      " 39  support                      62098 non-null  object\n",
      " 40  expired                      62098 non-null  object\n",
      " 41  desire_time_range            62098 non-null  object\n",
      " 42  canceled                     62098 non-null  object\n",
      " 43  service_id                   62098 non-null  object\n",
      " 44  direction_service_id         62098 non-null  object\n",
      " 45  region_clinic_notified       62098 non-null  object\n",
      " 46  online_order_date            62098 non-null  object\n",
      " 47  approve_email_send           62098 non-null  object\n",
      " 48  cancel_two                   62098 non-null  object\n",
      " 49  slot_id                      62098 non-null  object\n",
      " 50  integration_service_id       62098 non-null  object\n",
      " 51  schedule_id                  62098 non-null  object\n",
      " 52  additional_status            62098 non-null  object\n",
      " 53  clinic_update_status         62098 non-null  object\n",
      " 54  priority                     62098 non-null  object\n",
      " 55  test                         62098 non-null  object\n",
      " 56  loyalty                      62098 non-null  object\n",
      " 57  slots_shown                  62098 non-null  object\n",
      " 58  integration_status_id        62098 non-null  object\n",
      " 59  price_marker                 62098 non-null  object\n",
      " 60  quantity_marker              62098 non-null  object\n",
      " 61  another_person               62098 non-null  object\n",
      " 62  referral                     62098 non-null  object\n",
      " 63  status_changed_at            62098 non-null  object\n",
      " 64  phone_hash                   62098 non-null  object\n",
      "dtypes: object(65)\n",
      "memory usage: 33.8+ MB\n"
     ]
    }
   ],
   "source": [
    "hackathon_order.info()"
   ]
  },
  {
   "cell_type": "code",
   "execution_count": null,
   "id": "sunrise-february",
   "metadata": {
    "id": "sunrise-february",
    "outputId": "dc91f316-f5c9-428a-a199-391c759378ed"
   },
   "outputs": [
    {
     "name": "stderr",
     "output_type": "stream",
     "text": [
      "/usr/lib/python3/dist-packages/bs4/__init__.py:181: UserWarning: No parser was explicitly specified, so I'm using the best available HTML parser for this system (\"lxml\"). This usually isn't a problem, but if you run this code on another system, or in a different virtual environment, it may use a different parser and behave differently.\n",
      "\n",
      "The code that caused this warning is on line 193 of the file /usr/lib/python3.6/runpy.py. To get rid of this warning, change code that looks like this:\n",
      "\n",
      " BeautifulSoup(YOUR_MARKUP})\n",
      "\n",
      "to this:\n",
      "\n",
      " BeautifulSoup(YOUR_MARKUP, \"lxml\")\n",
      "\n",
      "  markup_type=markup_type))\n"
     ]
    }
   ],
   "source": [
    "specialty = _read_csv('./Doc.ua/specialty.csv')\n",
    "specialty = specialty.rename(columns=specialty.iloc[0]).drop(specialty.index[0])\n",
    "specialty['content'] = specialty['content'].apply(clean_html)"
   ]
  },
  {
   "cell_type": "code",
   "execution_count": null,
   "id": "crazy-desktop",
   "metadata": {
    "id": "crazy-desktop",
    "outputId": "87c30b8c-fc0c-486b-8693-11d3b7df1dc8"
   },
   "outputs": [
    {
     "data": {
      "text/html": [
       "<div>\n",
       "<style scoped>\n",
       "    .dataframe tbody tr th:only-of-type {\n",
       "        vertical-align: middle;\n",
       "    }\n",
       "\n",
       "    .dataframe tbody tr th {\n",
       "        vertical-align: top;\n",
       "    }\n",
       "\n",
       "    .dataframe thead th {\n",
       "        text-align: right;\n",
       "    }\n",
       "</style>\n",
       "<table border=\"1\" class=\"dataframe\">\n",
       "  <thead>\n",
       "    <tr style=\"text-align: right;\">\n",
       "      <th></th>\n",
       "      <th>id</th>\n",
       "      <th>name</th>\n",
       "      <th>alias</th>\n",
       "      <th>seo_title</th>\n",
       "      <th>keywords</th>\n",
       "      <th>description</th>\n",
       "      <th>content</th>\n",
       "      <th>date_create</th>\n",
       "      <th>date_update</th>\n",
       "      <th>deleted</th>\n",
       "      <th>case_parental</th>\n",
       "      <th>case_parental_plural</th>\n",
       "      <th>case_plural</th>\n",
       "      <th>top</th>\n",
       "      <th>popular</th>\n",
       "      <th>child</th>\n",
       "      <th>to_home</th>\n",
       "      <th>child_doctor</th>\n",
       "      <th>to_home_doctor</th>\n",
       "      <th>name_local</th>\n",
       "    </tr>\n",
       "  </thead>\n",
       "  <tbody>\n",
       "    <tr>\n",
       "      <th>1</th>\n",
       "      <td>1</td>\n",
       "      <td>Окулист (офтальмолог)</td>\n",
       "      <td>okulist</td>\n",
       "      <td>NULL</td>\n",
       "      <td>NULL</td>\n",
       "      <td>NULL</td>\n",
       "      <td>Окулист или офтальмолог - врач, занимающийся и...</td>\n",
       "      <td>NULL</td>\n",
       "      <td>NULL</td>\n",
       "      <td>1</td>\n",
       "      <td>NULL</td>\n",
       "      <td>NULL</td>\n",
       "      <td>NULL</td>\n",
       "      <td>NULL</td>\n",
       "      <td>1</td>\n",
       "      <td>1</td>\n",
       "      <td>1</td>\n",
       "      <td>NULL</td>\n",
       "      <td>NULL</td>\n",
       "      <td>NULL</td>\n",
       "    </tr>\n",
       "    <tr>\n",
       "      <th>2</th>\n",
       "      <td>2</td>\n",
       "      <td>Терапевт</td>\n",
       "      <td>terapevt</td>\n",
       "      <td>NULL</td>\n",
       "      <td>NULL</td>\n",
       "      <td>NULL</td>\n",
       "      <td>Терапевт - лечит пациентов</td>\n",
       "      <td>NULL</td>\n",
       "      <td>NULL</td>\n",
       "      <td>1</td>\n",
       "      <td>терапевта</td>\n",
       "      <td>терапевтов</td>\n",
       "      <td>терапевты</td>\n",
       "      <td>NULL</td>\n",
       "      <td>1</td>\n",
       "      <td>1</td>\n",
       "      <td>1</td>\n",
       "      <td>NULL</td>\n",
       "      <td>NULL</td>\n",
       "      <td>NULL</td>\n",
       "    </tr>\n",
       "    <tr>\n",
       "      <th>3</th>\n",
       "      <td>3</td>\n",
       "      <td>Акушер-гинеколог</td>\n",
       "      <td>akusher-ginekolog</td>\n",
       "      <td>NULL</td>\n",
       "      <td>NULL</td>\n",
       "      <td>NULL</td>\n",
       "      <td>Акушер-гинеколог – врач узкой специализации, з...</td>\n",
       "      <td>NULL</td>\n",
       "      <td>NULL</td>\n",
       "      <td>0</td>\n",
       "      <td>Акушера-гинеколога</td>\n",
       "      <td>Акушеров-гинекологов</td>\n",
       "      <td>Акушеры-гинекологи</td>\n",
       "      <td>1</td>\n",
       "      <td>0</td>\n",
       "      <td>0</td>\n",
       "      <td>1</td>\n",
       "      <td></td>\n",
       "      <td></td>\n",
       "      <td>Акушер-гінеколог</td>\n",
       "    </tr>\n",
       "    <tr>\n",
       "      <th>4</th>\n",
       "      <td>4</td>\n",
       "      <td>Аллерголог</td>\n",
       "      <td>allergolog</td>\n",
       "      <td>NULL</td>\n",
       "      <td>NULL</td>\n",
       "      <td>NULL</td>\n",
       "      <td>Аллерголог — специалист, занимающийся диагност...</td>\n",
       "      <td>NULL</td>\n",
       "      <td>NULL</td>\n",
       "      <td>0</td>\n",
       "      <td>Аллерголога</td>\n",
       "      <td>Аллергологов</td>\n",
       "      <td>Аллергологи</td>\n",
       "      <td>NULL</td>\n",
       "      <td>0</td>\n",
       "      <td>1</td>\n",
       "      <td>1</td>\n",
       "      <td>&lt;p style=\"text-align: justify;\"&gt;Детский аллерг...</td>\n",
       "      <td></td>\n",
       "      <td>Алерголог</td>\n",
       "    </tr>\n",
       "    <tr>\n",
       "      <th>5</th>\n",
       "      <td>5</td>\n",
       "      <td>Андролог</td>\n",
       "      <td>androlog</td>\n",
       "      <td>NULL</td>\n",
       "      <td>NULL</td>\n",
       "      <td>NULL</td>\n",
       "      <td>Андролог — врач, решающий проблемы сексуальной...</td>\n",
       "      <td>NULL</td>\n",
       "      <td>NULL</td>\n",
       "      <td>0</td>\n",
       "      <td>Андролога</td>\n",
       "      <td>Андрологов</td>\n",
       "      <td>Андрологи</td>\n",
       "      <td>NULL</td>\n",
       "      <td>0</td>\n",
       "      <td>1</td>\n",
       "      <td>1</td>\n",
       "      <td>&lt;p style=\"text-align: justify;\"&gt;Детский андрол...</td>\n",
       "      <td></td>\n",
       "      <td>Андролог</td>\n",
       "    </tr>\n",
       "  </tbody>\n",
       "</table>\n",
       "</div>"
      ],
      "text/plain": [
       "  id                   name              alias seo_title keywords description  \\\n",
       "1  1  Окулист (офтальмолог)            okulist      NULL     NULL        NULL   \n",
       "2  2               Терапевт           terapevt      NULL     NULL        NULL   \n",
       "3  3       Акушер-гинеколог  akusher-ginekolog      NULL     NULL        NULL   \n",
       "4  4             Аллерголог         allergolog      NULL     NULL        NULL   \n",
       "5  5               Андролог           androlog      NULL     NULL        NULL   \n",
       "\n",
       "                                             content date_create date_update  \\\n",
       "1  Окулист или офтальмолог - врач, занимающийся и...        NULL        NULL   \n",
       "2                         Терапевт - лечит пациентов        NULL        NULL   \n",
       "3  Акушер-гинеколог – врач узкой специализации, з...        NULL        NULL   \n",
       "4  Аллерголог — специалист, занимающийся диагност...        NULL        NULL   \n",
       "5  Андролог — врач, решающий проблемы сексуальной...        NULL        NULL   \n",
       "\n",
       "  deleted       case_parental  case_parental_plural         case_plural   top  \\\n",
       "1       1                NULL                  NULL                NULL  NULL   \n",
       "2       1           терапевта            терапевтов           терапевты  NULL   \n",
       "3       0  Акушера-гинеколога  Акушеров-гинекологов  Акушеры-гинекологи     1   \n",
       "4       0         Аллерголога          Аллергологов         Аллергологи  NULL   \n",
       "5       0           Андролога            Андрологов           Андрологи  NULL   \n",
       "\n",
       "  popular child to_home                                       child_doctor  \\\n",
       "1       1     1       1                                               NULL   \n",
       "2       1     1       1                                               NULL   \n",
       "3       0     0       1                                                      \n",
       "4       0     1       1  <p style=\"text-align: justify;\">Детский аллерг...   \n",
       "5       0     1       1  <p style=\"text-align: justify;\">Детский андрол...   \n",
       "\n",
       "  to_home_doctor        name_local  \n",
       "1           NULL              NULL  \n",
       "2           NULL              NULL  \n",
       "3                 Акушер-гінеколог  \n",
       "4                        Алерголог  \n",
       "5                         Андролог  "
      ]
     },
     "execution_count": 52,
     "metadata": {
      "tags": []
     },
     "output_type": "execute_result"
    }
   ],
   "source": [
    "specialty.head()"
   ]
  },
  {
   "cell_type": "code",
   "execution_count": null,
   "id": "foster-capitol",
   "metadata": {
    "id": "foster-capitol",
    "outputId": "51218e1f-3092-4bbf-e208-0d09152d349f"
   },
   "outputs": [
    {
     "name": "stdout",
     "output_type": "stream",
     "text": [
      "<class 'pandas.core.frame.DataFrame'>\n",
      "Int64Index: 128 entries, 1 to 128\n",
      "Data columns (total 20 columns):\n",
      " #   Column                Non-Null Count  Dtype \n",
      "---  ------                --------------  ----- \n",
      " 0   id                    128 non-null    object\n",
      " 1   name                  128 non-null    object\n",
      " 2   alias                 128 non-null    object\n",
      " 3   seo_title             128 non-null    object\n",
      " 4   keywords              128 non-null    object\n",
      " 5   description           128 non-null    object\n",
      " 6   content               128 non-null    object\n",
      " 7   date_create           128 non-null    object\n",
      " 8   date_update           128 non-null    object\n",
      " 9   deleted               128 non-null    object\n",
      " 10  case_parental         128 non-null    object\n",
      " 11  case_parental_plural  128 non-null    object\n",
      " 12  case_plural           128 non-null    object\n",
      " 13  top                   128 non-null    object\n",
      " 14  popular               128 non-null    object\n",
      " 15  child                 128 non-null    object\n",
      " 16  to_home               128 non-null    object\n",
      " 17  child_doctor          128 non-null    object\n",
      " 18  to_home_doctor        128 non-null    object\n",
      " 19  name_local            128 non-null    object\n",
      "dtypes: object(20)\n",
      "memory usage: 21.0+ KB\n"
     ]
    }
   ],
   "source": [
    "specialty.info()"
   ]
  },
  {
   "cell_type": "code",
   "execution_count": null,
   "id": "center-costs",
   "metadata": {
    "id": "center-costs"
   },
   "outputs": [],
   "source": [
    "symptoms = pd.read_csv('./Doc.ua/symptom.csv')\n",
    "symptoms['name'] = symptoms['name'].apply(clean_html)"
   ]
  },
  {
   "cell_type": "code",
   "execution_count": null,
   "id": "graphic-peninsula",
   "metadata": {
    "id": "graphic-peninsula",
    "outputId": "542b60ce-2e13-4451-b44e-5d5a26b5e19a"
   },
   "outputs": [
    {
     "data": {
      "text/html": [
       "<div>\n",
       "<style scoped>\n",
       "    .dataframe tbody tr th:only-of-type {\n",
       "        vertical-align: middle;\n",
       "    }\n",
       "\n",
       "    .dataframe tbody tr th {\n",
       "        vertical-align: top;\n",
       "    }\n",
       "\n",
       "    .dataframe thead th {\n",
       "        text-align: right;\n",
       "    }\n",
       "</style>\n",
       "<table border=\"1\" class=\"dataframe\">\n",
       "  <thead>\n",
       "    <tr style=\"text-align: right;\">\n",
       "      <th></th>\n",
       "      <th>id</th>\n",
       "      <th>name</th>\n",
       "      <th>body_id</th>\n",
       "      <th>deleted</th>\n",
       "      <th>gender</th>\n",
       "    </tr>\n",
       "  </thead>\n",
       "  <tbody>\n",
       "    <tr>\n",
       "      <th>0</th>\n",
       "      <td>1</td>\n",
       "      <td>Боль в горле</td>\n",
       "      <td>NaN</td>\n",
       "      <td>1</td>\n",
       "      <td>all</td>\n",
       "    </tr>\n",
       "    <tr>\n",
       "      <th>1</th>\n",
       "      <td>2</td>\n",
       "      <td>боль</td>\n",
       "      <td>4.0</td>\n",
       "      <td>1</td>\n",
       "      <td>all</td>\n",
       "    </tr>\n",
       "    <tr>\n",
       "      <th>2</th>\n",
       "      <td>3</td>\n",
       "      <td>Тошнота</td>\n",
       "      <td>98.0</td>\n",
       "      <td>0</td>\n",
       "      <td>all</td>\n",
       "    </tr>\n",
       "    <tr>\n",
       "      <th>3</th>\n",
       "      <td>4</td>\n",
       "      <td>Тяжесть в грудной клетке</td>\n",
       "      <td>26.0</td>\n",
       "      <td>1</td>\n",
       "      <td>all</td>\n",
       "    </tr>\n",
       "    <tr>\n",
       "      <th>4</th>\n",
       "      <td>5</td>\n",
       "      <td>Удушье</td>\n",
       "      <td>98.0</td>\n",
       "      <td>0</td>\n",
       "      <td>all</td>\n",
       "    </tr>\n",
       "  </tbody>\n",
       "</table>\n",
       "</div>"
      ],
      "text/plain": [
       "   id                      name  body_id  deleted gender\n",
       "0   1              Боль в горле      NaN        1    all\n",
       "1   2                      боль      4.0        1    all\n",
       "2   3                   Тошнота     98.0        0    all\n",
       "3   4  Тяжесть в грудной клетке     26.0        1    all\n",
       "4   5                    Удушье     98.0        0    all"
      ]
     },
     "execution_count": 161,
     "metadata": {
      "tags": []
     },
     "output_type": "execute_result"
    }
   ],
   "source": [
    "symptoms.head()"
   ]
  },
  {
   "cell_type": "code",
   "execution_count": null,
   "id": "terminal-frederick",
   "metadata": {
    "id": "terminal-frederick",
    "outputId": "60588f88-6a55-441e-841e-d5ca151ade11"
   },
   "outputs": [
    {
     "data": {
      "text/plain": [
       "((937, 5), 920)"
      ]
     },
     "execution_count": 162,
     "metadata": {
      "tags": []
     },
     "output_type": "execute_result"
    }
   ],
   "source": [
    "symptoms.shape, len(pd.unique(symptoms.name))\n",
    "#то есть почти все уникальны и их надо обрабатывать"
   ]
  },
  {
   "cell_type": "code",
   "execution_count": null,
   "id": "roman-detroit",
   "metadata": {
    "id": "roman-detroit"
   },
   "outputs": [],
   "source": []
  },
  {
   "cell_type": "code",
   "execution_count": null,
   "id": "chubby-riding",
   "metadata": {
    "id": "chubby-riding"
   },
   "outputs": [],
   "source": [
    "all_symptoms = symptoms['name'].str.cat(sep=' ').lower()\n",
    "stopset = stopwords.words('english') + list(string.punctuation)"
   ]
  },
  {
   "cell_type": "code",
   "execution_count": null,
   "id": "ready-skiing",
   "metadata": {
    "id": "ready-skiing"
   },
   "outputs": [],
   "source": [
    "words = [w for w in set(word_tokenize(all_symptoms)) if (len(w) >= 3 and w not in stopset)]"
   ]
  },
  {
   "cell_type": "code",
   "execution_count": null,
   "id": "centered-minimum",
   "metadata": {
    "id": "centered-minimum"
   },
   "outputs": [],
   "source": [
    "import pymorphy2\n",
    "morph = pymorphy2.MorphAnalyzer()"
   ]
  },
  {
   "cell_type": "code",
   "execution_count": null,
   "id": "digital-mobility",
   "metadata": {
    "id": "digital-mobility"
   },
   "outputs": [],
   "source": [
    "def symptoms_preprocess(words):\n",
    "    pymorphy_res = [morph.parse(x) for x in words]\n",
    "    r = [res[0].normal_form for res in pymorphy_res]\n",
    "    return r"
   ]
  },
  {
   "cell_type": "code",
   "execution_count": null,
   "id": "permanent-fundamentals",
   "metadata": {
    "id": "permanent-fundamentals"
   },
   "outputs": [],
   "source": [
    "symptom_words = symptoms_preprocess(words)"
   ]
  },
  {
   "cell_type": "code",
   "execution_count": null,
   "id": "alert-collect",
   "metadata": {
    "id": "alert-collect",
    "outputId": "08145ebf-896d-4387-f14e-d2a520b101ff"
   },
   "outputs": [
    {
     "data": {
      "text/plain": [
       "['холодный',\n",
       " 'уменьшение',\n",
       " 'сухой',\n",
       " 'стрелять',\n",
       " 'речь',\n",
       " 'спазм',\n",
       " 'повышенный',\n",
       " 'температура',\n",
       " 'выведение',\n",
       " 'шаг',\n",
       " 'подёргивание',\n",
       " 'нетипичный',\n",
       " 'железа',\n",
       " 'ход',\n",
       " 'травма',\n",
       " 'щель',\n",
       " 'менструальный',\n",
       " 'капля',\n",
       " 'окружность',\n",
       " 'худощавый',\n",
       " 'мочеиспускание',\n",
       " 'опистотонус',\n",
       " 'холод',\n",
       " 'рост',\n",
       " 'кондилома',\n",
       " 'запрокидывание',\n",
       " 'разрушение',\n",
       " 'зуд',\n",
       " 'зрение',\n",
       " 'болезненный',\n",
       " 'сужение',\n",
       " 'сокращение',\n",
       " 'анорексия',\n",
       " 'слизистый',\n",
       " 'падение',\n",
       " 'впадина',\n",
       " 'залысина',\n",
       " 'менструальный',\n",
       " 'багрово-красный',\n",
       " 'нарушение',\n",
       " 'незаращение',\n",
       " 'пот',\n",
       " 'прекращение',\n",
       " 'забывчивость',\n",
       " 'тембр',\n",
       " 'укачивание',\n",
       " 'зубной',\n",
       " 'мочить',\n",
       " 'сумеречный',\n",
       " 'слабость',\n",
       " 'брюшной',\n",
       " 'ограничение',\n",
       " 'язык',\n",
       " 'грудь',\n",
       " 'зависимость',\n",
       " 'желе',\n",
       " 'утруднить',\n",
       " 'клетка',\n",
       " 'врождённый',\n",
       " 'зуб',\n",
       " 'изжога',\n",
       " 'красно-багровый',\n",
       " 'диарея',\n",
       " 'подреберье',\n",
       " 'задний',\n",
       " 'глазной',\n",
       " 'потрескаться',\n",
       " 'паралич',\n",
       " 'припухлость',\n",
       " 'условие',\n",
       " 'отвращение',\n",
       " 'сонный',\n",
       " 'красный',\n",
       " 'гнусавость',\n",
       " 'характер',\n",
       " 'пах',\n",
       " 'мазать',\n",
       " 'горло',\n",
       " 'вкусовой',\n",
       " 'зачатие',\n",
       " 'язык',\n",
       " 'обильный',\n",
       " 'икроножный',\n",
       " 'лицо',\n",
       " 'статья',\n",
       " 'глотание',\n",
       " 'пережить',\n",
       " 'смена',\n",
       " 'уменьшить',\n",
       " 'барабанный',\n",
       " 'ревматоидный',\n",
       " 'щелчок',\n",
       " 'объём',\n",
       " 'зеленоватый',\n",
       " 'век',\n",
       " 'скудность',\n",
       " 'тип',\n",
       " 'усталость',\n",
       " 'качество',\n",
       " 'пупочный',\n",
       " 'железа',\n",
       " 'кишка',\n",
       " 'азартный',\n",
       " 'втяжение',\n",
       " 'щека',\n",
       " 'через',\n",
       " 'солёный',\n",
       " 'чихание',\n",
       " 'век',\n",
       " 'спина',\n",
       " 'шейный',\n",
       " 'голубой',\n",
       " 'менструальный',\n",
       " 'коленный',\n",
       " 'свистящий',\n",
       " 'беременность',\n",
       " 'глаз',\n",
       " 'слюнный',\n",
       " 'отвисание',\n",
       " 'тело',\n",
       " 'дезориентация',\n",
       " 'образование',\n",
       " 'шея',\n",
       " 'тревога',\n",
       " 'бело-розовый',\n",
       " 'трещина',\n",
       " 'кисть',\n",
       " 'радужка',\n",
       " 'кале',\n",
       " 'исчерченность',\n",
       " 'спина',\n",
       " 'пол',\n",
       " 'выделение',\n",
       " 'справа',\n",
       " 'скопление',\n",
       " 'шея',\n",
       " 'миндалина',\n",
       " 'застой',\n",
       " 'плечо',\n",
       " 'мышечный',\n",
       " 'солёный',\n",
       " 'бляшка',\n",
       " 'фора',\n",
       " 'бульканье',\n",
       " 'год',\n",
       " 'корочка',\n",
       " 'сперма',\n",
       " 'затылок',\n",
       " 'схема',\n",
       " 'форма',\n",
       " 'неудовлетворительный',\n",
       " 'мышление',\n",
       " 'снижение',\n",
       " 'точечный',\n",
       " 'приступообразный',\n",
       " 'заторможенность',\n",
       " 'изгиб',\n",
       " 'дрожание',\n",
       " 'пелена',\n",
       " 'палец',\n",
       " 'цианоз',\n",
       " 'помои',\n",
       " 'неспособность',\n",
       " 'перекрещение',\n",
       " 'кожа',\n",
       " 'сухость',\n",
       " 'выдвижение',\n",
       " 'мозоль',\n",
       " 'память',\n",
       " 'удушье',\n",
       " 'отсутствие',\n",
       " 'бедро',\n",
       " 'эмоция',\n",
       " 'анемия',\n",
       " 'участок',\n",
       " 'мочеиспускание',\n",
       " 'координация',\n",
       " 'задержка',\n",
       " 'синюшность',\n",
       " 'сменить',\n",
       " 'хронический',\n",
       " 'маточный',\n",
       " 'низ',\n",
       " 'спиртное',\n",
       " 'непроизвольный',\n",
       " '39°с',\n",
       " 'неулыбчивость',\n",
       " 'ходить',\n",
       " 'епп',\n",
       " 'ноготь',\n",
       " 'век',\n",
       " 'избегание',\n",
       " 'гиперсексуальность',\n",
       " 'мочевой',\n",
       " 'слизисто-гнойный',\n",
       " 'нога',\n",
       " 'кариес',\n",
       " 'урчание',\n",
       " 'кисть',\n",
       " 'бабочка',\n",
       " 'область',\n",
       " 'острота',\n",
       " 'конечность',\n",
       " 'температура',\n",
       " 'излишний',\n",
       " 'навязчивый',\n",
       " 'стиль',\n",
       " 'подложечный',\n",
       " 'отдельный',\n",
       " 'частый',\n",
       " 'физиологический',\n",
       " 'шаль',\n",
       " 'нарост',\n",
       " 'белые',\n",
       " 'размер',\n",
       " 'гумма',\n",
       " 'кровоподтёк',\n",
       " 'орган',\n",
       " 'солнце',\n",
       " 'пульс',\n",
       " 'мокнуть',\n",
       " 'утруднить',\n",
       " 'пенистый',\n",
       " 'сдавливание',\n",
       " 'отслоение',\n",
       " 'перекос',\n",
       " 'утруднить',\n",
       " 'нос',\n",
       " 'желудок',\n",
       " 'зрачок',\n",
       " 'меловидный',\n",
       " 'сонливость',\n",
       " 'свет',\n",
       " 'головной',\n",
       " 'аномалия',\n",
       " 'covid-19',\n",
       " 'левый',\n",
       " 'себя',\n",
       " 'ореол',\n",
       " 'глаз',\n",
       " 'мимический',\n",
       " 'опухание',\n",
       " 'бок',\n",
       " 'неприятный',\n",
       " 'уха',\n",
       " 'место',\n",
       " 'лиловый',\n",
       " 'тяжесть',\n",
       " 'пищевод',\n",
       " 'уплотнение',\n",
       " 'пища',\n",
       " 'набухание',\n",
       " 'быстрый',\n",
       " 'складка',\n",
       " 'плавать',\n",
       " 'межменструальный',\n",
       " 'губа',\n",
       " 'недосыпание',\n",
       " 'лакированный',\n",
       " 'багрово-красный',\n",
       " 'стопа',\n",
       " 'влажный',\n",
       " 'грудной',\n",
       " 'мушка',\n",
       " 'потенция',\n",
       " 'неполный',\n",
       " 'бочкообразный',\n",
       " 'бесцветный',\n",
       " 'вкус',\n",
       " 'твёрдый',\n",
       " 'рвота',\n",
       " 'онемение',\n",
       " 'корочка',\n",
       " 'сустав',\n",
       " 'цыпочки',\n",
       " 'подбородок',\n",
       " 'мышца',\n",
       " 'лимфатический',\n",
       " 'предмет',\n",
       " 'гениталии',\n",
       " 'восприятие',\n",
       " 'вено',\n",
       " 'вызывание',\n",
       " 'дисгармония',\n",
       " 'плаксивость',\n",
       " 'поведение',\n",
       " 'пигментный',\n",
       " 'частичный',\n",
       " 'десна',\n",
       " 'вспышка',\n",
       " 'засыпание',\n",
       " 'складка',\n",
       " 'беременность',\n",
       " 'прозрачный',\n",
       " 'однообразие',\n",
       " 'слог',\n",
       " 'проблема',\n",
       " 'череп',\n",
       " 'конъюнктива',\n",
       " 'стрия',\n",
       " 'глазной',\n",
       " 'предмет',\n",
       " 'выпадение',\n",
       " 'протяжение',\n",
       " 'болезненность',\n",
       " 'внутриглазной',\n",
       " 'опущение',\n",
       " 'повышенный',\n",
       " 'зрачок',\n",
       " 'ночной',\n",
       " 'бессонница',\n",
       " 'внизу',\n",
       " 'крайний',\n",
       " 'полушаровидный',\n",
       " 'ступор',\n",
       " 'счёт',\n",
       " 'неполноценность',\n",
       " 'проливный',\n",
       " 'ответный',\n",
       " 'болезненный',\n",
       " 'звук',\n",
       " 'странный',\n",
       " 'пощипывание',\n",
       " 'пятнистый',\n",
       " 'малоразвитый',\n",
       " 'внезапный',\n",
       " 'распирание',\n",
       " 'яблоко',\n",
       " 'опорожнение',\n",
       " 'полный',\n",
       " 'чёрный',\n",
       " 'пузырь',\n",
       " 'женский',\n",
       " 'погода',\n",
       " 'чесоточный',\n",
       " 'подвижность',\n",
       " 'раздражительность',\n",
       " 'склера',\n",
       " 'тяга',\n",
       " 'покраснение',\n",
       " 'нос',\n",
       " 'сердцебиение',\n",
       " 'дуга',\n",
       " 'согнутый',\n",
       " 'небо',\n",
       " 'левый',\n",
       " 'приплюснуть',\n",
       " 'насильственный',\n",
       " 'локальный',\n",
       " 'подвижность',\n",
       " 'мельтешение',\n",
       " 'слезотечение',\n",
       " 'мешок',\n",
       " 'цикл',\n",
       " 'рыбный',\n",
       " 'учащение',\n",
       " 'быстрый',\n",
       " 'лицо',\n",
       " 'сердцебиение',\n",
       " 'гуща',\n",
       " 'пятка',\n",
       " 'внезапный',\n",
       " 'пигментация',\n",
       " 'нос',\n",
       " 'чувствительность',\n",
       " 'шаткость',\n",
       " 'насморк',\n",
       " 'опережать',\n",
       " 'влечение',\n",
       " 'более',\n",
       " 'тело',\n",
       " 'дряблость',\n",
       " 'ходьба',\n",
       " 'двоение',\n",
       " 'задний',\n",
       " 'бродяжничество',\n",
       " 'книзу',\n",
       " 'стопа',\n",
       " 'лунообразный',\n",
       " 'наклон',\n",
       " 'суточный',\n",
       " 'при',\n",
       " 'половина',\n",
       " 'косолапость',\n",
       " 'ток',\n",
       " 'чешуйчатость',\n",
       " 'аппетит',\n",
       " 'яичко',\n",
       " 'рука',\n",
       " 'кровоизлияние',\n",
       " 'помутнение',\n",
       " 'тремор',\n",
       " 'выше',\n",
       " 'жажда',\n",
       " 'утолщение',\n",
       " 'сустав',\n",
       " 'симптом',\n",
       " 'эмаль',\n",
       " 'вблизи',\n",
       " 'запах',\n",
       " 'время',\n",
       " 'взгляд',\n",
       " 'короткий',\n",
       " 'слух',\n",
       " 'запоминание',\n",
       " 'афония',\n",
       " 'неполный',\n",
       " 'узелок-пузырь-корочка',\n",
       " 'сухожильный',\n",
       " 'право',\n",
       " 'тёмный',\n",
       " 'короткий',\n",
       " 'кофейный',\n",
       " 'преждевременный',\n",
       " 'сустав',\n",
       " 'выражение',\n",
       " 'неутолимый',\n",
       " 'промежность',\n",
       " 'гнойный',\n",
       " 'проход',\n",
       " 'голод',\n",
       " 'безрассудный',\n",
       " 'смещение',\n",
       " 'слабый',\n",
       " 'выпуклость',\n",
       " 'шепелявость',\n",
       " 'кожа',\n",
       " 'сосание',\n",
       " 'оранжевый',\n",
       " 'образование',\n",
       " 'гипергликемия',\n",
       " 'жирный',\n",
       " 'ухо',\n",
       " 'голень',\n",
       " 'либидо',\n",
       " 'першение',\n",
       " 'чёрный',\n",
       " 'кишечник',\n",
       " 'водобоязнь',\n",
       " 'рана',\n",
       " 'резь',\n",
       " 'непродуктивный',\n",
       " 'норма',\n",
       " 'артериальный',\n",
       " 'клетка',\n",
       " 'недомогание',\n",
       " 'менструация',\n",
       " 'зуб',\n",
       " 'или',\n",
       " 'перед',\n",
       " 'матка',\n",
       " 'полиморфный',\n",
       " 'сильный',\n",
       " 'ночью',\n",
       " 'сохранение',\n",
       " 'поворот',\n",
       " 'член',\n",
       " 'желудок',\n",
       " 'ряд',\n",
       " 'занизить',\n",
       " 'деформация',\n",
       " 'клетка',\n",
       " 'туловище',\n",
       " 'кольцо',\n",
       " 'подавить',\n",
       " 'зрачок',\n",
       " 'контакт',\n",
       " 'осанка',\n",
       " 'сидеть',\n",
       " 'таз',\n",
       " 'остаток',\n",
       " 'резкий',\n",
       " 'мужской',\n",
       " 'жара',\n",
       " 'покалывание',\n",
       " 'прилив',\n",
       " 'кашель',\n",
       " 'искажение',\n",
       " 'положение',\n",
       " 'выраженный',\n",
       " 'зуб',\n",
       " 'кайма',\n",
       " 'воспаление',\n",
       " 'язва',\n",
       " 'частый',\n",
       " 'повторение',\n",
       " 'воздухобоязнь',\n",
       " 'струить',\n",
       " 'вялость',\n",
       " 'мокрота',\n",
       " 'кожа',\n",
       " 'нарушить',\n",
       " 'агрессия',\n",
       " 'действие',\n",
       " 'шишка',\n",
       " 'трудно',\n",
       " 'обморок',\n",
       " 'дефекация',\n",
       " 'мысль',\n",
       " 'мошонка',\n",
       " 'мешок',\n",
       " 'узелковый',\n",
       " 'судорога',\n",
       " 'гримасничанье',\n",
       " 'натуживание',\n",
       " 'спонтанный',\n",
       " 'внимание',\n",
       " 'мочеиспускание',\n",
       " 'жировой',\n",
       " 'кровоточивость',\n",
       " 'понижение',\n",
       " 'пузырь',\n",
       " 'азартный',\n",
       " 'инфекция',\n",
       " 'повторяться',\n",
       " 'посинение',\n",
       " 'щиколотка',\n",
       " 'расширение',\n",
       " 'ночной',\n",
       " 'отвлекаемость',\n",
       " 'ригидность',\n",
       " 'подглазничный',\n",
       " 'полость',\n",
       " 'круглый',\n",
       " 'привкус',\n",
       " 'акт',\n",
       " 'масса',\n",
       " 'атрофия',\n",
       " 'каловый',\n",
       " 'цветовой',\n",
       " 'мастодиния',\n",
       " 'усиление',\n",
       " 'эйфория',\n",
       " 'замедлить',\n",
       " 'эпителий',\n",
       " 'кислый',\n",
       " 'отрешённость',\n",
       " 'возбудить',\n",
       " 'язычок',\n",
       " 'цвет',\n",
       " 'переносица',\n",
       " 'вина',\n",
       " 'низкий',\n",
       " 'нервозность',\n",
       " 'потоотделение',\n",
       " 'под',\n",
       " 'настроение',\n",
       " 'плод',\n",
       " 'медовый',\n",
       " 'дыхание',\n",
       " 'рост',\n",
       " 'утренний',\n",
       " 'усиленный',\n",
       " 'искривление',\n",
       " 'потоотделение',\n",
       " 'неритмичный',\n",
       " 'пыхтение',\n",
       " 'уплотнение',\n",
       " 'неестественный',\n",
       " 'лагофтальма',\n",
       " 'желание',\n",
       " 'висок',\n",
       " 'половой',\n",
       " 'укорочение',\n",
       " 'ожирение',\n",
       " 'цвет',\n",
       " 'сон',\n",
       " 'рвота',\n",
       " 'одеревенение',\n",
       " 'резкий',\n",
       " 'засыпание',\n",
       " 'асимметричность',\n",
       " 'мошонка',\n",
       " 'из',\n",
       " 'галлюцинация',\n",
       " 'тактильный',\n",
       " 'мир',\n",
       " 'овальный',\n",
       " 'поперечный',\n",
       " 'расщепление',\n",
       " 'губа',\n",
       " 'солнце',\n",
       " 'погружение',\n",
       " 'мимика',\n",
       " 'срыгивание',\n",
       " 'язвочка',\n",
       " 'чрезмерный',\n",
       " 'иллюзия',\n",
       " 'век',\n",
       " 'рот',\n",
       " 'голос',\n",
       " 'истончение',\n",
       " 'кровотечение',\n",
       " 'край',\n",
       " 'красный',\n",
       " 'храп',\n",
       " 'чтение',\n",
       " 'жёлто-зелёный',\n",
       " 'жёлтый',\n",
       " 'седина',\n",
       " 'нога',\n",
       " 'сардонический',\n",
       " 'сон',\n",
       " 'рот',\n",
       " 'роговица',\n",
       " 'цикл',\n",
       " 'вспыльчивость',\n",
       " 'развитие',\n",
       " 'ухудшение',\n",
       " 'угорь',\n",
       " 'большой',\n",
       " 'плёнка',\n",
       " 'позвоночник',\n",
       " 'между',\n",
       " 'копчик',\n",
       " 'перемежаться',\n",
       " 'ресница',\n",
       " 'печень',\n",
       " 'нижний',\n",
       " 'уровень',\n",
       " 'прямой',\n",
       " 'жидкий',\n",
       " 'апатия',\n",
       " 'подозрительность',\n",
       " 'лопатка',\n",
       " 'гнида',\n",
       " 'соска',\n",
       " 'взгляд',\n",
       " 'связанный',\n",
       " 'зеленоватый',\n",
       " 'раздвоение',\n",
       " 'ребёнок',\n",
       " 'обессия',\n",
       " 'расхождение',\n",
       " 'пупок',\n",
       " 'волдырь',\n",
       " 'сутулость',\n",
       " 'привоздействие',\n",
       " 'превышать',\n",
       " 'вид',\n",
       " 'сторона',\n",
       " 'насыщаемость',\n",
       " 'верхний',\n",
       " 'смыкание',\n",
       " 'сгибание',\n",
       " 'интеллект',\n",
       " 'одутловатость',\n",
       " 'кисть',\n",
       " 'инородный',\n",
       " 'смена',\n",
       " 'ходьба',\n",
       " 'реагировать',\n",
       " 'заложенность',\n",
       " 'стянутость',\n",
       " 'переедание',\n",
       " 'рост',\n",
       " 'походка',\n",
       " 'непроизвольный',\n",
       " 'интерес',\n",
       " 'кровохаркание',\n",
       " 'острый',\n",
       " 'пол',\n",
       " 'кожа',\n",
       " 'глухота',\n",
       " 'самостоятельно',\n",
       " 'грудной',\n",
       " 'утро',\n",
       " 'лицо',\n",
       " 'нарушение',\n",
       " 'отёчность',\n",
       " 'экспираторный',\n",
       " 'время',\n",
       " 'замирание',\n",
       " 'розовый',\n",
       " 'раздражитель',\n",
       " 'провал',\n",
       " 'округлость',\n",
       " 'рукопожатие',\n",
       " 'сосудистый',\n",
       " 'бледность',\n",
       " 'горб',\n",
       " 'частый',\n",
       " 'гиперактивность',\n",
       " 'кровь',\n",
       " 'прерывистость',\n",
       " 'ярко-красный',\n",
       " 'разорванность',\n",
       " 'изменение',\n",
       " 'обесцвечивание',\n",
       " 'позыв',\n",
       " 'ухо',\n",
       " 'патологический',\n",
       " 'социальный',\n",
       " 'внезапный',\n",
       " 'огрубление',\n",
       " 'выдох',\n",
       " 'вокруг',\n",
       " 'заеда',\n",
       " 'жирный',\n",
       " 'надкостница',\n",
       " 'половой',\n",
       " 'губа',\n",
       " 'нога',\n",
       " 'потемнение',\n",
       " 'узелок',\n",
       " 'слабый',\n",
       " 'сыпь',\n",
       " 'запор',\n",
       " 'кровь',\n",
       " 'ломота',\n",
       " 'икота',\n",
       " 'кома',\n",
       " 'ассиметрия',\n",
       " 'проситель',\n",
       " 'слизисто-гнойный',\n",
       " 'пах',\n",
       " 'скованность',\n",
       " 'запах',\n",
       " 'брадикардия',\n",
       " 'ягодица',\n",
       " 'отечь',\n",
       " 'паника',\n",
       " 'бесплодие',\n",
       " 'головокружение',\n",
       " 'иридодонез',\n",
       " 'ванна',\n",
       " 'полуоткрытый',\n",
       " 'камедон',\n",
       " 'колика',\n",
       " 'ноготь',\n",
       " 'кал',\n",
       " 'центральный',\n",
       " 'разрастание',\n",
       " 'тахикардия',\n",
       " 'эхо',\n",
       " 'волос',\n",
       " 'гнойник',\n",
       " 'холодный',\n",
       " 'запах',\n",
       " 'учащённый',\n",
       " 'глюкоза',\n",
       " 'язва',\n",
       " 'малиновый',\n",
       " 'вдох',\n",
       " 'положение',\n",
       " 'половина',\n",
       " 'сальный',\n",
       " 'потение',\n",
       " 'мысль',\n",
       " 'приступ',\n",
       " 'серый',\n",
       " 'гнойно-кровянистый',\n",
       " 'плечо',\n",
       " 'растяжка',\n",
       " 'ладонь',\n",
       " 'хруст',\n",
       " 'телесный',\n",
       " 'плечо',\n",
       " 'невозможность',\n",
       " 'правый',\n",
       " 'десна',\n",
       " 'тёмный',\n",
       " 'улыбка',\n",
       " 'темп',\n",
       " 'родничок',\n",
       " 'схваткообразный',\n",
       " 'склонность',\n",
       " 'слепота',\n",
       " 'ранний',\n",
       " 'одышка',\n",
       " 'походка',\n",
       " 'страх',\n",
       " 'приоткрыть',\n",
       " 'живот',\n",
       " 'кровяной',\n",
       " 'дыхательный',\n",
       " 'непрерывный',\n",
       " 'умственный',\n",
       " 'ладонь',\n",
       " 'метеоризм',\n",
       " 'фраза',\n",
       " 'объём',\n",
       " 'молниеносный',\n",
       " 'проход',\n",
       " 'зелёный',\n",
       " 'перианальный',\n",
       " 'ноготь',\n",
       " 'зелёный',\n",
       " 'пена',\n",
       " 'напряжение',\n",
       " 'человек',\n",
       " 'слюнотечение',\n",
       " 'аутоагрессия',\n",
       " 'слущивание',\n",
       " 'открытость',\n",
       " 'игра',\n",
       " 'сознание',\n",
       " 'пробуждение',\n",
       " 'почка',\n",
       " 'шелушение',\n",
       " 'налёт',\n",
       " 'нечёткость',\n",
       " 'получать',\n",
       " 'боль',\n",
       " 'вдаль',\n",
       " 'кукольный',\n",
       " 'контроль',\n",
       " 'гипертрихоз',\n",
       " 'геморроидальный',\n",
       " 'бедро',\n",
       " 'ногтевой',\n",
       " 'вынужденный',\n",
       " 'мышиный',\n",
       " 'гнойный',\n",
       " 'кровь',\n",
       " 'тонкий',\n",
       " 'количество',\n",
       " 'фонофобия',\n",
       " 'пятно',\n",
       " 'поясница',\n",
       " 'восприятие',\n",
       " 'речь',\n",
       " 'вперёд',\n",
       " 'иллюзия',\n",
       " 'лилово-красный',\n",
       " 'без',\n",
       " 'давление',\n",
       " 'черта',\n",
       " 'звёздочка',\n",
       " 'сам',\n",
       " 'ночной',\n",
       " 'пучеглазие',\n",
       " 'нессиметричный',\n",
       " 'настроение',\n",
       " 'телосложение',\n",
       " 'гирсутизм',\n",
       " 'ороговение',\n",
       " 'точка',\n",
       " 'выпирание',\n",
       " 'капризность',\n",
       " 'слюноотделение',\n",
       " 'шишка',\n",
       " 'основание',\n",
       " 'гноетечение',\n",
       " 'перемена',\n",
       " 'родинка',\n",
       " 'вода',\n",
       " 'замедлить',\n",
       " 'белок',\n",
       " 'рассеяность',\n",
       " 'бородавка',\n",
       " 'перепад',\n",
       " 'извращение',\n",
       " 'ротовой',\n",
       " 'локоть',\n",
       " 'жжение',\n",
       " 'опоясывать',\n",
       " 'жёлтый',\n",
       " 'туловище',\n",
       " 'аммиачный',\n",
       " 'влагалищный',\n",
       " 'отсутсвие',\n",
       " 'возбудимость',\n",
       " 'невынашивание',\n",
       " 'разлить',\n",
       " 'тонус',\n",
       " 'поведение',\n",
       " 'шанкр',\n",
       " 'перелом',\n",
       " 'сон',\n",
       " 'прищуривание',\n",
       " 'включение',\n",
       " 'мелкий',\n",
       " 'эрекция',\n",
       " 'самоидентификация',\n",
       " 'глотание',\n",
       " 'серый',\n",
       " 'отставание',\n",
       " 'нерегулярный',\n",
       " 'плечо',\n",
       " 'бред',\n",
       " 'бедность',\n",
       " 'грудина',\n",
       " 'саморазрушительный',\n",
       " 'ухо',\n",
       " 'кривизна',\n",
       " 'опухоль',\n",
       " 'мелкий',\n",
       " 'подкожный',\n",
       " 'сустав',\n",
       " 'складка',\n",
       " 'позвоночник',\n",
       " 'ноющий',\n",
       " 'перхоть',\n",
       " 'предплечье',\n",
       " 'носовой',\n",
       " 'зевота',\n",
       " 'голод',\n",
       " 'железа',\n",
       " 'песок',\n",
       " 'поза',\n",
       " 'сморщивание',\n",
       " 'полова',\n",
       " 'поддержка',\n",
       " 'лимфоузел',\n",
       " 'самооценка',\n",
       " 'икра',\n",
       " 'приступообразный',\n",
       " 'пушистый',\n",
       " 'подчелюстной',\n",
       " 'живот',\n",
       " 'ломкость',\n",
       " 'потребность',\n",
       " 'бело-розовый',\n",
       " '38°с',\n",
       " 'гусиный',\n",
       " 'зубной',\n",
       " 'волос',\n",
       " 'глаз',\n",
       " 'селезёнка',\n",
       " 'влагалище',\n",
       " 'дуга',\n",
       " 'пепельный',\n",
       " 'мышечный',\n",
       " 'подагрический',\n",
       " 'движение',\n",
       " 'белый',\n",
       " 'красный',\n",
       " 'круг',\n",
       " 'ощущение',\n",
       " 'пребывание',\n",
       " 'компульсия',\n",
       " 'молочный',\n",
       " 'из-под',\n",
       " 'бель',\n",
       " 'сердце',\n",
       " 'горечь',\n",
       " 'щитовидный',\n",
       " 'семяизвержение',\n",
       " 'тризм',\n",
       " 'полифекалия',\n",
       " 'выпячивание',\n",
       " 'после',\n",
       " 'каловый',\n",
       " 'движение',\n",
       " 'изоляция',\n",
       " 'пузырчатый',\n",
       " 'гортань',\n",
       " 'озноб',\n",
       " 'раздражение',\n",
       " 'магический',\n",
       " 'идея',\n",
       " 'внешний',\n",
       " 'лопатка',\n",
       " 'ритуальный',\n",
       " 'отечь',\n",
       " 'лимфоузел',\n",
       " 'тошнота',\n",
       " 'бессвязный',\n",
       " 'растягивание',\n",
       " 'игрушка',\n",
       " 'плоть',\n",
       " 'равновесие',\n",
       " 'ходьба',\n",
       " 'воспоминание',\n",
       " 'боль',\n",
       " 'обоняние',\n",
       " 'светлый',\n",
       " 'месяц',\n",
       " 'мутность',\n",
       " 'шершавость',\n",
       " 'пластина',\n",
       " 'реакция',\n",
       " 'поверхность',\n",
       " 'желтушность',\n",
       " 'пахово-бедренный',\n",
       " 'бугристость',\n",
       " 'поворот',\n",
       " 'молоко',\n",
       " 'удовольствие',\n",
       " 'собственноручный',\n",
       " 'конечность',\n",
       " 'тугоподвижность',\n",
       " 'плотный',\n",
       " 'кровотечение',\n",
       " 'тофус',\n",
       " 'окружающие',\n",
       " 'беспокойство',\n",
       " 'течение',\n",
       " 'мышца',\n",
       " 'свет',\n",
       " 'расслоение',\n",
       " 'волос',\n",
       " 'принятие',\n",
       " 'гноить',\n",
       " 'раздражитель',\n",
       " 'ослабление',\n",
       " 'выгнутый',\n",
       " 'блеск',\n",
       " 'депрессия',\n",
       " ...]"
      ]
     },
     "execution_count": 241,
     "metadata": {
      "tags": []
     },
     "output_type": "execute_result"
    }
   ],
   "source": [
    "symptom_words"
   ]
  },
  {
   "cell_type": "code",
   "execution_count": null,
   "id": "executed-operations",
   "metadata": {
    "id": "executed-operations"
   },
   "outputs": [],
   "source": [
    "Xy = pd.read_csv('./new_xy.csv')"
   ]
  },
  {
   "cell_type": "code",
   "execution_count": null,
   "id": "killing-mobility",
   "metadata": {
    "id": "killing-mobility",
    "outputId": "2f9102d8-da95-4d4d-f356-a86c9f5c1353"
   },
   "outputs": [
    {
     "name": "stdout",
     "output_type": "stream",
     "text": [
      "<class 'pandas.core.frame.DataFrame'>\n",
      "RangeIndex: 782 entries, 0 to 781\n",
      "Data columns (total 3 columns):\n",
      " #   Column      Non-Null Count  Dtype \n",
      "---  ------      --------------  ----- \n",
      " 0   Unnamed: 0  782 non-null    int64 \n",
      " 1   X           782 non-null    object\n",
      " 2   y           782 non-null    object\n",
      "dtypes: int64(1), object(2)\n",
      "memory usage: 18.5+ KB\n"
     ]
    }
   ],
   "source": [
    "Xy.info()"
   ]
  },
  {
   "cell_type": "code",
   "execution_count": null,
   "id": "sticky-maryland",
   "metadata": {
    "id": "sticky-maryland"
   },
   "outputs": [],
   "source": [
    "pd.read_csv('')"
   ]
  },
  {
   "cell_type": "code",
   "execution_count": null,
   "id": "express-central",
   "metadata": {
    "id": "express-central"
   },
   "outputs": [],
   "source": []
  },
  {
   "cell_type": "code",
   "execution_count": null,
   "id": "appreciated-stick",
   "metadata": {
    "id": "appreciated-stick"
   },
   "outputs": [],
   "source": []
  }
 ],
 "metadata": {
  "colab": {
   "name": "ai_med_assistent2.ipynb",
   "provenance": []
  },
  "kernelspec": {
   "display_name": "Python 3",
   "language": "python",
   "name": "python3"
  },
  "language_info": {
   "codemirror_mode": {
    "name": "ipython",
    "version": 3
   },
   "file_extension": ".py",
   "mimetype": "text/x-python",
   "name": "python",
   "nbconvert_exporter": "python",
   "pygments_lexer": "ipython3",
   "version": "3.9.2"
  }
 },
 "nbformat": 4,
 "nbformat_minor": 5
}
