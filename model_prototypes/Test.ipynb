{
 "cells": [
  {
   "cell_type": "code",
   "execution_count": 1,
   "id": "prompt-interval",
   "metadata": {},
   "outputs": [],
   "source": [
    "import pickle\n",
    "\n",
    "fname = \"model.dump\"\n",
    "model_data = open(fname, \"rb\").read()"
   ]
  },
  {
   "cell_type": "code",
   "execution_count": null,
   "id": "prepared-african",
   "metadata": {},
   "outputs": [],
   "source": [
    "clf = pickle.loads(model_data)"
   ]
  },
  {
   "cell_type": "code",
   "execution_count": null,
   "id": "efficient-investigation",
   "metadata": {},
   "outputs": [],
   "source": []
  }
 ],
 "metadata": {
  "kernelspec": {
   "display_name": "Python 3",
   "language": "python",
   "name": "python3"
  },
  "language_info": {
   "codemirror_mode": {
    "name": "ipython",
    "version": 3
   },
   "file_extension": ".py",
   "mimetype": "text/x-python",
   "name": "python",
   "nbconvert_exporter": "python",
   "pygments_lexer": "ipython3",
   "version": "3.9.2"
  }
 },
 "nbformat": 4,
 "nbformat_minor": 5
}
